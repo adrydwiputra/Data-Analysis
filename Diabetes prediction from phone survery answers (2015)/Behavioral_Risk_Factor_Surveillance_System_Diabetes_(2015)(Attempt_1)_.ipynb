{
  "nbformat": 4,
  "nbformat_minor": 0,
  "metadata": {
    "colab": {
      "name": "Behavioral Risk Factor Surveillance System - Diabetes (2015)(Attempt_1) .ipynb",
      "provenance": [],
      "collapsed_sections": [],
      "toc_visible": true
    },
    "kernelspec": {
      "name": "python3",
      "display_name": "Python 3"
    },
    "language_info": {
      "name": "python"
    }
  },
  "cells": [
    {
      "cell_type": "markdown",
      "source": [
        "# Results\n",
        "\n",
        "Using Voting CLassifiers = 0.841% accuracy"
      ],
      "metadata": {
        "id": "QvTrPSy9rmKV"
      }
    },
    {
      "cell_type": "markdown",
      "source": [
        "# The Dataset\n",
        "\n",
        "This notebook was made in reference to the following 2 notebooks.\n",
        "\n",
        "\n",
        "2015 codebook: https://www.cdc.gov/brfss/annual_data/2015/pdf/codebook15_llcp.pdf\n",
        "\n",
        "Data cleaning reference: https://www.kaggle.com/alexteboul/diabetes-health-indicators-dataset-notebook\n",
        "\n",
        "The purpose of this analysis is to clean BRFSS data into a useable format for machine learning. The dataset is a collection of answers from-over-the phone interviews conducted by the CDC(Center for Disease Control and Prevention) in the US in 2015. The dataset has originally 330 columns but we will only select a subset of these after research in the field has identified these as **important risk factors**.\n",
        "\n",
        "The following list are such important risk factors and are not ordered in anyway:\n",
        "\n",
        "\n",
        "1. blood pressure (high)\n",
        "2. cholesterol (high)\n",
        "3. smoking\n",
        "4. diabetes\n",
        "5. obesity\n",
        "6. age\n",
        "7. sex\n",
        "8. race\n",
        "9. diet\n",
        "10. exercise\n",
        "11. alcohol consumption\n",
        "12. BMI\n",
        "13. Household Income\n",
        "14. Marital Status\n",
        "15. Sleep\n",
        "16. Time since last checkup\n",
        "17. Education\n",
        "18. Health care coverage\n",
        "19. Mental Health\n",
        "\n",
        "In order to pick out the above listed risk factors, I will consult the 2015 codebook to get a better understanding of the feature names."
      ],
      "metadata": {
        "id": "11G6AoJ8nbno"
      }
    },
    {
      "cell_type": "code",
      "execution_count": null,
      "metadata": {
        "id": "hfcepqTY8C8x"
      },
      "outputs": [],
      "source": [
        "# Import libraries\n",
        "import pandas as pd\n",
        "import numpy as np\n",
        "from matplotlib import pyplot as plt\n",
        "import seaborn as sns\n",
        "\n",
        "plt.rcParams['font.size'] = 14\n",
        "plt.rcParams['figure.figsize'] = (15, 7)"
      ]
    },
    {
      "cell_type": "code",
      "source": [
        "# Load in the datasets\n",
        "df = pd.read_csv('/content/drive/MyDrive/Datasets/Diabetes 2015/2015.csv')"
      ],
      "metadata": {
        "id": "Dd7EO51vFapD"
      },
      "execution_count": null,
      "outputs": []
    },
    {
      "cell_type": "code",
      "source": [
        "df.shape"
      ],
      "metadata": {
        "colab": {
          "base_uri": "https://localhost:8080/"
        },
        "id": "6h-qAVtRGAde",
        "outputId": "9d42e68a-374d-461c-f61b-ff8659fbe91d"
      },
      "execution_count": null,
      "outputs": [
        {
          "output_type": "execute_result",
          "data": {
            "text/plain": [
              "(441456, 330)"
            ]
          },
          "metadata": {},
          "execution_count": 3
        }
      ]
    },
    {
      "cell_type": "code",
      "source": [
        "# Select specific columns \n",
        "df = df[['DIABETE3',\n",
        "        '_RFHYPE5',  \n",
        "        'TOLDHI2', '_CHOLCHK', \n",
        "        '_BMI5', \n",
        "        'SMOKE100', \n",
        "        'CVDSTRK3', '_MICHD', \n",
        "        '_TOTINDA', \n",
        "        '_FRTLT1', '_VEGLT1', \n",
        "        '_RFDRHV5', \n",
        "        'HLTHPLN1', 'MEDCOST', \n",
        "        'GENHLTH', 'MENTHLTH', 'PHYSHLTH', 'DIFFWALK', \n",
        "        'SEX', '_AGEG5YR', 'EDUCA', 'INCOME2']]"
      ],
      "metadata": {
        "id": "YgN9SwRYSETy"
      },
      "execution_count": null,
      "outputs": []
    },
    {
      "cell_type": "code",
      "source": [
        "df"
      ],
      "metadata": {
        "colab": {
          "base_uri": "https://localhost:8080/",
          "height": 488
        },
        "id": "EBfb5LEMSXiB",
        "outputId": "2930ee4c-8f83-4f23-e199-c5ce8d021fb0"
      },
      "execution_count": null,
      "outputs": [
        {
          "output_type": "execute_result",
          "data": {
            "text/html": [
              "\n",
              "  <div id=\"df-9f368234-62d9-4b0a-921e-a5c59480c29f\">\n",
              "    <div class=\"colab-df-container\">\n",
              "      <div>\n",
              "<style scoped>\n",
              "    .dataframe tbody tr th:only-of-type {\n",
              "        vertical-align: middle;\n",
              "    }\n",
              "\n",
              "    .dataframe tbody tr th {\n",
              "        vertical-align: top;\n",
              "    }\n",
              "\n",
              "    .dataframe thead th {\n",
              "        text-align: right;\n",
              "    }\n",
              "</style>\n",
              "<table border=\"1\" class=\"dataframe\">\n",
              "  <thead>\n",
              "    <tr style=\"text-align: right;\">\n",
              "      <th></th>\n",
              "      <th>DIABETE3</th>\n",
              "      <th>_RFHYPE5</th>\n",
              "      <th>TOLDHI2</th>\n",
              "      <th>_CHOLCHK</th>\n",
              "      <th>_BMI5</th>\n",
              "      <th>SMOKE100</th>\n",
              "      <th>CVDSTRK3</th>\n",
              "      <th>_MICHD</th>\n",
              "      <th>_TOTINDA</th>\n",
              "      <th>_FRTLT1</th>\n",
              "      <th>_VEGLT1</th>\n",
              "      <th>_RFDRHV5</th>\n",
              "      <th>HLTHPLN1</th>\n",
              "      <th>MEDCOST</th>\n",
              "      <th>GENHLTH</th>\n",
              "      <th>MENTHLTH</th>\n",
              "      <th>PHYSHLTH</th>\n",
              "      <th>DIFFWALK</th>\n",
              "      <th>SEX</th>\n",
              "      <th>_AGEG5YR</th>\n",
              "      <th>EDUCA</th>\n",
              "      <th>INCOME2</th>\n",
              "    </tr>\n",
              "  </thead>\n",
              "  <tbody>\n",
              "    <tr>\n",
              "      <th>0</th>\n",
              "      <td>3.0</td>\n",
              "      <td>2.0</td>\n",
              "      <td>1.0</td>\n",
              "      <td>1.0</td>\n",
              "      <td>4018.0</td>\n",
              "      <td>1.0</td>\n",
              "      <td>2.0</td>\n",
              "      <td>2.0</td>\n",
              "      <td>2.0</td>\n",
              "      <td>2.0</td>\n",
              "      <td>1.0</td>\n",
              "      <td>1.0</td>\n",
              "      <td>1.0</td>\n",
              "      <td>2.0</td>\n",
              "      <td>5.0</td>\n",
              "      <td>18.0</td>\n",
              "      <td>15.0</td>\n",
              "      <td>1.0</td>\n",
              "      <td>2.0</td>\n",
              "      <td>9.0</td>\n",
              "      <td>4.0</td>\n",
              "      <td>3.0</td>\n",
              "    </tr>\n",
              "    <tr>\n",
              "      <th>1</th>\n",
              "      <td>3.0</td>\n",
              "      <td>1.0</td>\n",
              "      <td>2.0</td>\n",
              "      <td>2.0</td>\n",
              "      <td>2509.0</td>\n",
              "      <td>1.0</td>\n",
              "      <td>2.0</td>\n",
              "      <td>2.0</td>\n",
              "      <td>1.0</td>\n",
              "      <td>2.0</td>\n",
              "      <td>2.0</td>\n",
              "      <td>1.0</td>\n",
              "      <td>2.0</td>\n",
              "      <td>1.0</td>\n",
              "      <td>3.0</td>\n",
              "      <td>88.0</td>\n",
              "      <td>88.0</td>\n",
              "      <td>2.0</td>\n",
              "      <td>2.0</td>\n",
              "      <td>7.0</td>\n",
              "      <td>6.0</td>\n",
              "      <td>1.0</td>\n",
              "    </tr>\n",
              "    <tr>\n",
              "      <th>2</th>\n",
              "      <td>3.0</td>\n",
              "      <td>1.0</td>\n",
              "      <td>1.0</td>\n",
              "      <td>1.0</td>\n",
              "      <td>2204.0</td>\n",
              "      <td>NaN</td>\n",
              "      <td>1.0</td>\n",
              "      <td>NaN</td>\n",
              "      <td>9.0</td>\n",
              "      <td>9.0</td>\n",
              "      <td>9.0</td>\n",
              "      <td>9.0</td>\n",
              "      <td>1.0</td>\n",
              "      <td>2.0</td>\n",
              "      <td>4.0</td>\n",
              "      <td>88.0</td>\n",
              "      <td>15.0</td>\n",
              "      <td>NaN</td>\n",
              "      <td>2.0</td>\n",
              "      <td>11.0</td>\n",
              "      <td>4.0</td>\n",
              "      <td>99.0</td>\n",
              "    </tr>\n",
              "    <tr>\n",
              "      <th>3</th>\n",
              "      <td>3.0</td>\n",
              "      <td>2.0</td>\n",
              "      <td>1.0</td>\n",
              "      <td>1.0</td>\n",
              "      <td>2819.0</td>\n",
              "      <td>2.0</td>\n",
              "      <td>2.0</td>\n",
              "      <td>2.0</td>\n",
              "      <td>2.0</td>\n",
              "      <td>1.0</td>\n",
              "      <td>2.0</td>\n",
              "      <td>1.0</td>\n",
              "      <td>1.0</td>\n",
              "      <td>1.0</td>\n",
              "      <td>5.0</td>\n",
              "      <td>30.0</td>\n",
              "      <td>30.0</td>\n",
              "      <td>1.0</td>\n",
              "      <td>2.0</td>\n",
              "      <td>9.0</td>\n",
              "      <td>4.0</td>\n",
              "      <td>8.0</td>\n",
              "    </tr>\n",
              "    <tr>\n",
              "      <th>4</th>\n",
              "      <td>3.0</td>\n",
              "      <td>1.0</td>\n",
              "      <td>2.0</td>\n",
              "      <td>1.0</td>\n",
              "      <td>2437.0</td>\n",
              "      <td>2.0</td>\n",
              "      <td>2.0</td>\n",
              "      <td>2.0</td>\n",
              "      <td>2.0</td>\n",
              "      <td>9.0</td>\n",
              "      <td>1.0</td>\n",
              "      <td>1.0</td>\n",
              "      <td>1.0</td>\n",
              "      <td>2.0</td>\n",
              "      <td>5.0</td>\n",
              "      <td>88.0</td>\n",
              "      <td>20.0</td>\n",
              "      <td>2.0</td>\n",
              "      <td>2.0</td>\n",
              "      <td>9.0</td>\n",
              "      <td>5.0</td>\n",
              "      <td>77.0</td>\n",
              "    </tr>\n",
              "    <tr>\n",
              "      <th>...</th>\n",
              "      <td>...</td>\n",
              "      <td>...</td>\n",
              "      <td>...</td>\n",
              "      <td>...</td>\n",
              "      <td>...</td>\n",
              "      <td>...</td>\n",
              "      <td>...</td>\n",
              "      <td>...</td>\n",
              "      <td>...</td>\n",
              "      <td>...</td>\n",
              "      <td>...</td>\n",
              "      <td>...</td>\n",
              "      <td>...</td>\n",
              "      <td>...</td>\n",
              "      <td>...</td>\n",
              "      <td>...</td>\n",
              "      <td>...</td>\n",
              "      <td>...</td>\n",
              "      <td>...</td>\n",
              "      <td>...</td>\n",
              "      <td>...</td>\n",
              "      <td>...</td>\n",
              "    </tr>\n",
              "    <tr>\n",
              "      <th>441451</th>\n",
              "      <td>1.0</td>\n",
              "      <td>2.0</td>\n",
              "      <td>1.0</td>\n",
              "      <td>1.0</td>\n",
              "      <td>1842.0</td>\n",
              "      <td>2.0</td>\n",
              "      <td>2.0</td>\n",
              "      <td>2.0</td>\n",
              "      <td>2.0</td>\n",
              "      <td>2.0</td>\n",
              "      <td>2.0</td>\n",
              "      <td>1.0</td>\n",
              "      <td>1.0</td>\n",
              "      <td>2.0</td>\n",
              "      <td>4.0</td>\n",
              "      <td>88.0</td>\n",
              "      <td>88.0</td>\n",
              "      <td>1.0</td>\n",
              "      <td>2.0</td>\n",
              "      <td>11.0</td>\n",
              "      <td>2.0</td>\n",
              "      <td>4.0</td>\n",
              "    </tr>\n",
              "    <tr>\n",
              "      <th>441452</th>\n",
              "      <td>3.0</td>\n",
              "      <td>1.0</td>\n",
              "      <td>2.0</td>\n",
              "      <td>1.0</td>\n",
              "      <td>2834.0</td>\n",
              "      <td>2.0</td>\n",
              "      <td>2.0</td>\n",
              "      <td>2.0</td>\n",
              "      <td>1.0</td>\n",
              "      <td>1.0</td>\n",
              "      <td>2.0</td>\n",
              "      <td>1.0</td>\n",
              "      <td>1.0</td>\n",
              "      <td>2.0</td>\n",
              "      <td>1.0</td>\n",
              "      <td>88.0</td>\n",
              "      <td>88.0</td>\n",
              "      <td>2.0</td>\n",
              "      <td>2.0</td>\n",
              "      <td>2.0</td>\n",
              "      <td>5.0</td>\n",
              "      <td>2.0</td>\n",
              "    </tr>\n",
              "    <tr>\n",
              "      <th>441453</th>\n",
              "      <td>3.0</td>\n",
              "      <td>2.0</td>\n",
              "      <td>1.0</td>\n",
              "      <td>1.0</td>\n",
              "      <td>4110.0</td>\n",
              "      <td>1.0</td>\n",
              "      <td>2.0</td>\n",
              "      <td>2.0</td>\n",
              "      <td>9.0</td>\n",
              "      <td>9.0</td>\n",
              "      <td>9.0</td>\n",
              "      <td>1.0</td>\n",
              "      <td>1.0</td>\n",
              "      <td>2.0</td>\n",
              "      <td>4.0</td>\n",
              "      <td>20.0</td>\n",
              "      <td>88.0</td>\n",
              "      <td>2.0</td>\n",
              "      <td>2.0</td>\n",
              "      <td>11.0</td>\n",
              "      <td>4.0</td>\n",
              "      <td>5.0</td>\n",
              "    </tr>\n",
              "    <tr>\n",
              "      <th>441454</th>\n",
              "      <td>3.0</td>\n",
              "      <td>2.0</td>\n",
              "      <td>2.0</td>\n",
              "      <td>1.0</td>\n",
              "      <td>2315.0</td>\n",
              "      <td>2.0</td>\n",
              "      <td>2.0</td>\n",
              "      <td>2.0</td>\n",
              "      <td>2.0</td>\n",
              "      <td>1.0</td>\n",
              "      <td>1.0</td>\n",
              "      <td>1.0</td>\n",
              "      <td>1.0</td>\n",
              "      <td>2.0</td>\n",
              "      <td>3.0</td>\n",
              "      <td>88.0</td>\n",
              "      <td>88.0</td>\n",
              "      <td>2.0</td>\n",
              "      <td>1.0</td>\n",
              "      <td>7.0</td>\n",
              "      <td>5.0</td>\n",
              "      <td>1.0</td>\n",
              "    </tr>\n",
              "    <tr>\n",
              "      <th>441455</th>\n",
              "      <td>1.0</td>\n",
              "      <td>2.0</td>\n",
              "      <td>1.0</td>\n",
              "      <td>1.0</td>\n",
              "      <td>2469.0</td>\n",
              "      <td>2.0</td>\n",
              "      <td>2.0</td>\n",
              "      <td>1.0</td>\n",
              "      <td>1.0</td>\n",
              "      <td>1.0</td>\n",
              "      <td>2.0</td>\n",
              "      <td>1.0</td>\n",
              "      <td>1.0</td>\n",
              "      <td>2.0</td>\n",
              "      <td>2.0</td>\n",
              "      <td>88.0</td>\n",
              "      <td>88.0</td>\n",
              "      <td>2.0</td>\n",
              "      <td>2.0</td>\n",
              "      <td>9.0</td>\n",
              "      <td>6.0</td>\n",
              "      <td>2.0</td>\n",
              "    </tr>\n",
              "  </tbody>\n",
              "</table>\n",
              "<p>441456 rows × 22 columns</p>\n",
              "</div>\n",
              "      <button class=\"colab-df-convert\" onclick=\"convertToInteractive('df-9f368234-62d9-4b0a-921e-a5c59480c29f')\"\n",
              "              title=\"Convert this dataframe to an interactive table.\"\n",
              "              style=\"display:none;\">\n",
              "        \n",
              "  <svg xmlns=\"http://www.w3.org/2000/svg\" height=\"24px\"viewBox=\"0 0 24 24\"\n",
              "       width=\"24px\">\n",
              "    <path d=\"M0 0h24v24H0V0z\" fill=\"none\"/>\n",
              "    <path d=\"M18.56 5.44l.94 2.06.94-2.06 2.06-.94-2.06-.94-.94-2.06-.94 2.06-2.06.94zm-11 1L8.5 8.5l.94-2.06 2.06-.94-2.06-.94L8.5 2.5l-.94 2.06-2.06.94zm10 10l.94 2.06.94-2.06 2.06-.94-2.06-.94-.94-2.06-.94 2.06-2.06.94z\"/><path d=\"M17.41 7.96l-1.37-1.37c-.4-.4-.92-.59-1.43-.59-.52 0-1.04.2-1.43.59L10.3 9.45l-7.72 7.72c-.78.78-.78 2.05 0 2.83L4 21.41c.39.39.9.59 1.41.59.51 0 1.02-.2 1.41-.59l7.78-7.78 2.81-2.81c.8-.78.8-2.07 0-2.86zM5.41 20L4 18.59l7.72-7.72 1.47 1.35L5.41 20z\"/>\n",
              "  </svg>\n",
              "      </button>\n",
              "      \n",
              "  <style>\n",
              "    .colab-df-container {\n",
              "      display:flex;\n",
              "      flex-wrap:wrap;\n",
              "      gap: 12px;\n",
              "    }\n",
              "\n",
              "    .colab-df-convert {\n",
              "      background-color: #E8F0FE;\n",
              "      border: none;\n",
              "      border-radius: 50%;\n",
              "      cursor: pointer;\n",
              "      display: none;\n",
              "      fill: #1967D2;\n",
              "      height: 32px;\n",
              "      padding: 0 0 0 0;\n",
              "      width: 32px;\n",
              "    }\n",
              "\n",
              "    .colab-df-convert:hover {\n",
              "      background-color: #E2EBFA;\n",
              "      box-shadow: 0px 1px 2px rgba(60, 64, 67, 0.3), 0px 1px 3px 1px rgba(60, 64, 67, 0.15);\n",
              "      fill: #174EA6;\n",
              "    }\n",
              "\n",
              "    [theme=dark] .colab-df-convert {\n",
              "      background-color: #3B4455;\n",
              "      fill: #D2E3FC;\n",
              "    }\n",
              "\n",
              "    [theme=dark] .colab-df-convert:hover {\n",
              "      background-color: #434B5C;\n",
              "      box-shadow: 0px 1px 3px 1px rgba(0, 0, 0, 0.15);\n",
              "      filter: drop-shadow(0px 1px 2px rgba(0, 0, 0, 0.3));\n",
              "      fill: #FFFFFF;\n",
              "    }\n",
              "  </style>\n",
              "\n",
              "      <script>\n",
              "        const buttonEl =\n",
              "          document.querySelector('#df-9f368234-62d9-4b0a-921e-a5c59480c29f button.colab-df-convert');\n",
              "        buttonEl.style.display =\n",
              "          google.colab.kernel.accessAllowed ? 'block' : 'none';\n",
              "\n",
              "        async function convertToInteractive(key) {\n",
              "          const element = document.querySelector('#df-9f368234-62d9-4b0a-921e-a5c59480c29f');\n",
              "          const dataTable =\n",
              "            await google.colab.kernel.invokeFunction('convertToInteractive',\n",
              "                                                     [key], {});\n",
              "          if (!dataTable) return;\n",
              "\n",
              "          const docLinkHtml = 'Like what you see? Visit the ' +\n",
              "            '<a target=\"_blank\" href=https://colab.research.google.com/notebooks/data_table.ipynb>data table notebook</a>'\n",
              "            + ' to learn more about interactive tables.';\n",
              "          element.innerHTML = '';\n",
              "          dataTable['output_type'] = 'display_data';\n",
              "          await google.colab.output.renderOutput(dataTable, element);\n",
              "          const docLink = document.createElement('div');\n",
              "          docLink.innerHTML = docLinkHtml;\n",
              "          element.appendChild(docLink);\n",
              "        }\n",
              "      </script>\n",
              "    </div>\n",
              "  </div>\n",
              "  "
            ],
            "text/plain": [
              "        DIABETE3  _RFHYPE5  TOLDHI2  _CHOLCHK  ...  SEX  _AGEG5YR  EDUCA  INCOME2\n",
              "0            3.0       2.0      1.0       1.0  ...  2.0       9.0    4.0      3.0\n",
              "1            3.0       1.0      2.0       2.0  ...  2.0       7.0    6.0      1.0\n",
              "2            3.0       1.0      1.0       1.0  ...  2.0      11.0    4.0     99.0\n",
              "3            3.0       2.0      1.0       1.0  ...  2.0       9.0    4.0      8.0\n",
              "4            3.0       1.0      2.0       1.0  ...  2.0       9.0    5.0     77.0\n",
              "...          ...       ...      ...       ...  ...  ...       ...    ...      ...\n",
              "441451       1.0       2.0      1.0       1.0  ...  2.0      11.0    2.0      4.0\n",
              "441452       3.0       1.0      2.0       1.0  ...  2.0       2.0    5.0      2.0\n",
              "441453       3.0       2.0      1.0       1.0  ...  2.0      11.0    4.0      5.0\n",
              "441454       3.0       2.0      2.0       1.0  ...  1.0       7.0    5.0      1.0\n",
              "441455       1.0       2.0      1.0       1.0  ...  2.0       9.0    6.0      2.0\n",
              "\n",
              "[441456 rows x 22 columns]"
            ]
          },
          "metadata": {},
          "execution_count": 5
        }
      ]
    },
    {
      "cell_type": "markdown",
      "source": [
        "# Clean the dataset"
      ],
      "metadata": {
        "id": "5KIXIACzSrUr"
      }
    },
    {
      "cell_type": "code",
      "source": [
        "# Drop Missing Values\n",
        "df = df.dropna()\n",
        "df.shape"
      ],
      "metadata": {
        "colab": {
          "base_uri": "https://localhost:8080/"
        },
        "id": "pVdWGcWzStBT",
        "outputId": "f1fd9aaa-68b5-4cab-acfb-736361c585ba"
      },
      "execution_count": null,
      "outputs": [
        {
          "output_type": "execute_result",
          "data": {
            "text/plain": [
              "(343606, 22)"
            ]
          },
          "metadata": {},
          "execution_count": 6
        }
      ]
    },
    {
      "cell_type": "markdown",
      "source": [
        "## Modify and clean the dataset to be more suitable to ML algorithms"
      ],
      "metadata": {
        "id": "SeyKN4NkS3LJ"
      }
    },
    {
      "cell_type": "code",
      "source": [
        "# DIABETE3\n",
        "# going to make this ordinal. 0 is for no diabetes or only during pregnancy, 1 is for pre-diabetes or borderline diabetes, 2 is for yes diabetes\n",
        "# Remove all 7 (dont knows)\n",
        "# Remove all 9 (refused)\n",
        "df['DIABETE3'] = df['DIABETE3'].replace({2:0, 3:0, 1:2, 4:1})\n",
        "df = df[df.DIABETE3 != 7]\n",
        "df = df[df.DIABETE3 != 9]\n",
        "df.DIABETE3.unique()"
      ],
      "metadata": {
        "id": "AjCwin24S6h2",
        "colab": {
          "base_uri": "https://localhost:8080/"
        },
        "outputId": "157b22ad-0574-4261-be04-567349a27a89"
      },
      "execution_count": null,
      "outputs": [
        {
          "output_type": "stream",
          "name": "stderr",
          "text": [
            "/usr/local/lib/python3.7/dist-packages/ipykernel_launcher.py:5: SettingWithCopyWarning: \n",
            "A value is trying to be set on a copy of a slice from a DataFrame.\n",
            "Try using .loc[row_indexer,col_indexer] = value instead\n",
            "\n",
            "See the caveats in the documentation: https://pandas.pydata.org/pandas-docs/stable/user_guide/indexing.html#returning-a-view-versus-a-copy\n",
            "  \"\"\"\n"
          ]
        },
        {
          "output_type": "execute_result",
          "data": {
            "text/plain": [
              "array([0., 2., 1.])"
            ]
          },
          "metadata": {},
          "execution_count": 7
        }
      ]
    },
    {
      "cell_type": "code",
      "source": [
        "#1 _RFHYPE5\n",
        "#Change 1 to 0 so it represetnts No high blood pressure and 2 to 1 so it represents high blood pressure\n",
        "df['_RFHYPE5'] = df['_RFHYPE5'].replace({1:0, 2:1})\n",
        "df = df[df._RFHYPE5 != 9]\n",
        "df._RFHYPE5.unique()"
      ],
      "metadata": {
        "id": "b5tW6b0STDNX",
        "colab": {
          "base_uri": "https://localhost:8080/"
        },
        "outputId": "825d5c0b-e432-49b7-9c00-45c55f8599c9"
      },
      "execution_count": null,
      "outputs": [
        {
          "output_type": "execute_result",
          "data": {
            "text/plain": [
              "array([1., 0.])"
            ]
          },
          "metadata": {},
          "execution_count": 8
        }
      ]
    },
    {
      "cell_type": "code",
      "source": [
        "#2 TOLDHI2\n",
        "# Change 2 to 0 because it is No\n",
        "# Remove all 7 (dont knows)\n",
        "# Remove all 9 (refused)\n",
        "df['TOLDHI2'] = df['TOLDHI2'].replace({2:0})\n",
        "df = df[df.TOLDHI2 != 7]\n",
        "df = df[df.TOLDHI2 != 9]\n",
        "df.TOLDHI2.unique()"
      ],
      "metadata": {
        "id": "G35ynFGwTNDY",
        "colab": {
          "base_uri": "https://localhost:8080/"
        },
        "outputId": "2bd5e482-149e-4325-f7b1-ffd0c70e3f1a"
      },
      "execution_count": null,
      "outputs": [
        {
          "output_type": "execute_result",
          "data": {
            "text/plain": [
              "array([1., 0.])"
            ]
          },
          "metadata": {},
          "execution_count": 9
        }
      ]
    },
    {
      "cell_type": "code",
      "source": [
        "#3 _CHOLCHK\n",
        "# Change 3 to 0 and 2 to 0 for Not checked cholesterol in past 5 years\n",
        "# Remove 9\n",
        "df['_CHOLCHK'] = df['_CHOLCHK'].replace({3:0,2:0})\n",
        "df = df[df._CHOLCHK != 9]\n",
        "df._CHOLCHK.unique()"
      ],
      "metadata": {
        "id": "wtcri9lQTRxS",
        "colab": {
          "base_uri": "https://localhost:8080/"
        },
        "outputId": "7a693c18-12ea-4aa1-930d-3d4a74fcab5d"
      },
      "execution_count": null,
      "outputs": [
        {
          "output_type": "stream",
          "name": "stderr",
          "text": [
            "/usr/local/lib/python3.7/dist-packages/ipykernel_launcher.py:4: SettingWithCopyWarning: \n",
            "A value is trying to be set on a copy of a slice from a DataFrame.\n",
            "Try using .loc[row_indexer,col_indexer] = value instead\n",
            "\n",
            "See the caveats in the documentation: https://pandas.pydata.org/pandas-docs/stable/user_guide/indexing.html#returning-a-view-versus-a-copy\n",
            "  after removing the cwd from sys.path.\n"
          ]
        },
        {
          "output_type": "execute_result",
          "data": {
            "text/plain": [
              "array([1., 0.])"
            ]
          },
          "metadata": {},
          "execution_count": 10
        }
      ]
    },
    {
      "cell_type": "code",
      "source": [
        "#4 _BMI5 (no changes, just note that these are BMI * 100. So for example a BMI of 4018 is really 40.18)\n",
        "df['_BMI5'] = df['_BMI5'].div(100).round(0)\n",
        "df._BMI5.unique()"
      ],
      "metadata": {
        "id": "xLUYI47DTnd_",
        "colab": {
          "base_uri": "https://localhost:8080/"
        },
        "outputId": "754daa9f-15f1-4140-ec47-8a315d3bb715"
      },
      "execution_count": null,
      "outputs": [
        {
          "output_type": "execute_result",
          "data": {
            "text/plain": [
              "array([40., 25., 28., 24., 27., 30., 26., 23., 34., 33., 21., 22., 31.,\n",
              "       38., 20., 19., 32., 46., 41., 37., 36., 29., 35., 18., 54., 45.,\n",
              "       39., 47., 43., 55., 49., 42., 17., 16., 48., 44., 50., 59., 15.,\n",
              "       52., 53., 57., 51., 14., 58., 63., 61., 56., 60., 74., 62., 64.,\n",
              "       13., 66., 73., 65., 68., 85., 71., 84., 67., 70., 82., 79., 92.,\n",
              "       72., 88., 96., 81., 12., 77., 95., 75., 91., 69., 76., 87., 89.,\n",
              "       83., 98., 86., 80., 90., 78., 97.])"
            ]
          },
          "metadata": {},
          "execution_count": 11
        }
      ]
    },
    {
      "cell_type": "code",
      "source": [
        "#5 SMOKE100\n",
        "# Change 2 to 0 because it is No\n",
        "# Remove all 7 (dont knows)\n",
        "# Remove all 9 (refused)\n",
        "df['SMOKE100'] = df['SMOKE100'].replace({2:0})\n",
        "df = df[df.SMOKE100 != 7]\n",
        "df = df[df.SMOKE100 != 9]\n",
        "df.SMOKE100.unique()"
      ],
      "metadata": {
        "id": "bZTVJbgPTokb",
        "colab": {
          "base_uri": "https://localhost:8080/"
        },
        "outputId": "8d22d210-4c35-4892-83f6-5d3622cbccc9"
      },
      "execution_count": null,
      "outputs": [
        {
          "output_type": "execute_result",
          "data": {
            "text/plain": [
              "array([1., 0.])"
            ]
          },
          "metadata": {},
          "execution_count": 12
        }
      ]
    },
    {
      "cell_type": "code",
      "source": [
        "#6 CVDSTRK3\n",
        "# Change 2 to 0 because it is No\n",
        "# Remove all 7 (dont knows)\n",
        "# Remove all 9 (refused)\n",
        "df['CVDSTRK3'] = df['CVDSTRK3'].replace({2:0})\n",
        "df = df[df.CVDSTRK3 != 7]\n",
        "df = df[df.CVDSTRK3 != 9]\n",
        "df.CVDSTRK3.unique()"
      ],
      "metadata": {
        "id": "0YanbSdxTpiK",
        "colab": {
          "base_uri": "https://localhost:8080/"
        },
        "outputId": "6d1db947-33a4-4df0-8935-e4010e3a567a"
      },
      "execution_count": null,
      "outputs": [
        {
          "output_type": "execute_result",
          "data": {
            "text/plain": [
              "array([0., 1.])"
            ]
          },
          "metadata": {},
          "execution_count": 13
        }
      ]
    },
    {
      "cell_type": "code",
      "source": [
        "#7 _MICHD\n",
        "#Change 2 to 0 because this means did not have MI or CHD\n",
        "df['_MICHD'] = df['_MICHD'].replace({2: 0})\n",
        "df._MICHD.unique()"
      ],
      "metadata": {
        "id": "WmeLnODTTqnB",
        "colab": {
          "base_uri": "https://localhost:8080/"
        },
        "outputId": "54335011-1157-453c-893f-42b7d1b9d97f"
      },
      "execution_count": null,
      "outputs": [
        {
          "output_type": "stream",
          "name": "stderr",
          "text": [
            "/usr/local/lib/python3.7/dist-packages/ipykernel_launcher.py:3: SettingWithCopyWarning: \n",
            "A value is trying to be set on a copy of a slice from a DataFrame.\n",
            "Try using .loc[row_indexer,col_indexer] = value instead\n",
            "\n",
            "See the caveats in the documentation: https://pandas.pydata.org/pandas-docs/stable/user_guide/indexing.html#returning-a-view-versus-a-copy\n",
            "  This is separate from the ipykernel package so we can avoid doing imports until\n"
          ]
        },
        {
          "output_type": "execute_result",
          "data": {
            "text/plain": [
              "array([0., 1.])"
            ]
          },
          "metadata": {},
          "execution_count": 14
        }
      ]
    },
    {
      "cell_type": "code",
      "source": [
        "#8 _TOTINDA\n",
        "# 1 for physical activity\n",
        "# change 2 to 0 for no physical activity\n",
        "# Remove all 9 (don't know/refused)\n",
        "df['_TOTINDA'] = df['_TOTINDA'].replace({2:0})\n",
        "df = df[df._TOTINDA != 9]\n",
        "df._TOTINDA.unique()"
      ],
      "metadata": {
        "id": "AC2OZboBTryM",
        "colab": {
          "base_uri": "https://localhost:8080/"
        },
        "outputId": "dbd8ea9f-73ee-4cd5-8150-606c541cc2e0"
      },
      "execution_count": null,
      "outputs": [
        {
          "output_type": "stream",
          "name": "stderr",
          "text": [
            "/usr/local/lib/python3.7/dist-packages/ipykernel_launcher.py:5: SettingWithCopyWarning: \n",
            "A value is trying to be set on a copy of a slice from a DataFrame.\n",
            "Try using .loc[row_indexer,col_indexer] = value instead\n",
            "\n",
            "See the caveats in the documentation: https://pandas.pydata.org/pandas-docs/stable/user_guide/indexing.html#returning-a-view-versus-a-copy\n",
            "  \"\"\"\n"
          ]
        },
        {
          "output_type": "execute_result",
          "data": {
            "text/plain": [
              "array([0., 1.])"
            ]
          },
          "metadata": {},
          "execution_count": 15
        }
      ]
    },
    {
      "cell_type": "code",
      "source": [
        "#9 _FRTLT1\n",
        "# Change 2 to 0. this means no fruit consumed per day. 1 will mean consumed 1 or more pieces of fruit per day \n",
        "# remove all dont knows and missing 9\n",
        "df['_FRTLT1'] = df['_FRTLT1'].replace({2:0})\n",
        "df = df[df._FRTLT1 != 9]\n",
        "df._FRTLT1.unique()"
      ],
      "metadata": {
        "id": "gv-JzewlTs4K",
        "colab": {
          "base_uri": "https://localhost:8080/"
        },
        "outputId": "8ed09240-ce59-4c7a-bfe7-d9c926c550be"
      },
      "execution_count": null,
      "outputs": [
        {
          "output_type": "execute_result",
          "data": {
            "text/plain": [
              "array([0., 1.])"
            ]
          },
          "metadata": {},
          "execution_count": 16
        }
      ]
    },
    {
      "cell_type": "code",
      "source": [
        "#10 _VEGLT1\n",
        "# Change 2 to 0. this means no vegetables consumed per day. 1 will mean consumed 1 or more pieces of vegetable per day \n",
        "# remove all dont knows and missing 9\n",
        "df['_VEGLT1'] = df['_VEGLT1'].replace({2:0})\n",
        "df = df[df._VEGLT1 != 9]\n",
        "df._VEGLT1.unique()"
      ],
      "metadata": {
        "id": "4COxNJeZTt8Q",
        "colab": {
          "base_uri": "https://localhost:8080/"
        },
        "outputId": "72dd48f8-a802-4ada-f1cf-b79260fba347"
      },
      "execution_count": null,
      "outputs": [
        {
          "output_type": "execute_result",
          "data": {
            "text/plain": [
              "array([1., 0.])"
            ]
          },
          "metadata": {},
          "execution_count": 17
        }
      ]
    },
    {
      "cell_type": "code",
      "source": [
        "#11 _RFDRHV5\n",
        "# Change 1 to 0 (1 was no for heavy drinking). change all 2 to 1 (2 was yes for heavy drinking)\n",
        "# remove all dont knows and missing 9\n",
        "df['_RFDRHV5'] = df['_RFDRHV5'].replace({1:0, 2:1})\n",
        "df = df[df._RFDRHV5 != 9]\n",
        "df._RFDRHV5.unique()"
      ],
      "metadata": {
        "id": "rcbsayG2Tu0V",
        "colab": {
          "base_uri": "https://localhost:8080/"
        },
        "outputId": "9cb1ee71-0a7d-413d-ca6a-769b01d0c3cb"
      },
      "execution_count": null,
      "outputs": [
        {
          "output_type": "execute_result",
          "data": {
            "text/plain": [
              "array([0., 1.])"
            ]
          },
          "metadata": {},
          "execution_count": 18
        }
      ]
    },
    {
      "cell_type": "code",
      "source": [
        "df._RFDRHV5.value_counts()"
      ],
      "metadata": {
        "colab": {
          "base_uri": "https://localhost:8080/"
        },
        "id": "4Tmqpbcwo9KU",
        "outputId": "2933688e-cbcb-4690-d8c5-23e624197041"
      },
      "execution_count": null,
      "outputs": [
        {
          "output_type": "execute_result",
          "data": {
            "text/plain": [
              "0.0    282758\n",
              "1.0     15879\n",
              "Name: _RFDRHV5, dtype: int64"
            ]
          },
          "metadata": {},
          "execution_count": 19
        }
      ]
    },
    {
      "cell_type": "code",
      "source": [
        "#12 HLTHPLN1\n",
        "# 1 is yes, change 2 to 0 because it is No health care access\n",
        "# remove 7 and 9 for don't know or refused\n",
        "df['HLTHPLN1'] = df['HLTHPLN1'].replace({2:0})\n",
        "df = df[df.HLTHPLN1 != 7]\n",
        "df = df[df.HLTHPLN1 != 9]\n",
        "df.HLTHPLN1.unique()"
      ],
      "metadata": {
        "id": "VqDTN-5eTwAh",
        "colab": {
          "base_uri": "https://localhost:8080/"
        },
        "outputId": "399494ad-8777-442d-ae2c-3f8762fb9967"
      },
      "execution_count": null,
      "outputs": [
        {
          "output_type": "stream",
          "name": "stderr",
          "text": [
            "/usr/local/lib/python3.7/dist-packages/ipykernel_launcher.py:4: SettingWithCopyWarning: \n",
            "A value is trying to be set on a copy of a slice from a DataFrame.\n",
            "Try using .loc[row_indexer,col_indexer] = value instead\n",
            "\n",
            "See the caveats in the documentation: https://pandas.pydata.org/pandas-docs/stable/user_guide/indexing.html#returning-a-view-versus-a-copy\n",
            "  after removing the cwd from sys.path.\n"
          ]
        },
        {
          "output_type": "execute_result",
          "data": {
            "text/plain": [
              "array([1., 0.])"
            ]
          },
          "metadata": {},
          "execution_count": 20
        }
      ]
    },
    {
      "cell_type": "code",
      "source": [
        "#13 MEDCOST\n",
        "# Change 2 to 0 for no, 1 is already yes\n",
        "# remove 7 for don/t know and 9 for refused\n",
        "df['MEDCOST'] = df['MEDCOST'].replace({2:0})\n",
        "df = df[df.MEDCOST != 7]\n",
        "df = df[df.MEDCOST != 9]\n",
        "df.MEDCOST.unique()"
      ],
      "metadata": {
        "id": "nMCIenwhTxFo",
        "colab": {
          "base_uri": "https://localhost:8080/"
        },
        "outputId": "55e3f6a2-b723-488f-efa4-d2ce0603c529"
      },
      "execution_count": null,
      "outputs": [
        {
          "output_type": "execute_result",
          "data": {
            "text/plain": [
              "array([0., 1.])"
            ]
          },
          "metadata": {},
          "execution_count": 21
        }
      ]
    },
    {
      "cell_type": "code",
      "source": [
        "#14 GENHLTH\n",
        "# This is an ordinal variable that I want to keep (1 is Excellent -> 5 is Poor)\n",
        "# Remove 7 and 9 for don't know and refused\n",
        "df = df[df.GENHLTH != 7]\n",
        "df = df[df.GENHLTH != 9]\n",
        "df.GENHLTH.unique()"
      ],
      "metadata": {
        "id": "7zrgfH1qTyct",
        "colab": {
          "base_uri": "https://localhost:8080/"
        },
        "outputId": "05e25059-46c2-423b-90a1-77ee727e3cbe"
      },
      "execution_count": null,
      "outputs": [
        {
          "output_type": "execute_result",
          "data": {
            "text/plain": [
              "array([5., 3., 2., 4., 1.])"
            ]
          },
          "metadata": {},
          "execution_count": 22
        }
      ]
    },
    {
      "cell_type": "code",
      "source": [
        "#15 MENTHLTH\n",
        "# already in days so keep that, scale will be 0-30\n",
        "# change 88 to 0 because it means none (no bad mental health days)\n",
        "# remove 77 and 99 for don't know not sure and refused\n",
        "df['MENTHLTH'] = df['MENTHLTH'].replace({88:0})\n",
        "df = df[df.MENTHLTH != 77]\n",
        "df = df[df.MENTHLTH != 99]\n",
        "df.MENTHLTH.unique()"
      ],
      "metadata": {
        "id": "5s2pUKqiTzbt",
        "colab": {
          "base_uri": "https://localhost:8080/"
        },
        "outputId": "7fee2059-733e-429b-e23b-f7e0cf53d374"
      },
      "execution_count": null,
      "outputs": [
        {
          "output_type": "stream",
          "name": "stderr",
          "text": [
            "/usr/local/lib/python3.7/dist-packages/ipykernel_launcher.py:5: SettingWithCopyWarning: \n",
            "A value is trying to be set on a copy of a slice from a DataFrame.\n",
            "Try using .loc[row_indexer,col_indexer] = value instead\n",
            "\n",
            "See the caveats in the documentation: https://pandas.pydata.org/pandas-docs/stable/user_guide/indexing.html#returning-a-view-versus-a-copy\n",
            "  \"\"\"\n"
          ]
        },
        {
          "output_type": "execute_result",
          "data": {
            "text/plain": [
              "array([18.,  0., 30.,  3.,  5., 15., 10.,  6., 20.,  2., 25.,  1., 29.,\n",
              "        4.,  7.,  8., 21., 14., 26.,  9., 16., 28., 11., 12., 24., 17.,\n",
              "       13., 23., 27., 19., 22.])"
            ]
          },
          "metadata": {},
          "execution_count": 23
        }
      ]
    },
    {
      "cell_type": "code",
      "source": [
        "#16 PHYSHLTH\n",
        "# already in days so keep that, scale will be 0-30\n",
        "# change 88 to 0 because it means none (no bad mental health days)\n",
        "# remove 77 and 99 for don't know not sure and refused\n",
        "df['PHYSHLTH'] = df['PHYSHLTH'].replace({88:0})\n",
        "df = df[df.PHYSHLTH != 77]\n",
        "df = df[df.PHYSHLTH != 99]\n",
        "df.PHYSHLTH.unique()"
      ],
      "metadata": {
        "id": "7l3U7o3FT0iI",
        "colab": {
          "base_uri": "https://localhost:8080/"
        },
        "outputId": "bde5f473-d2f2-49d1-b703-eb34c128f837"
      },
      "execution_count": null,
      "outputs": [
        {
          "output_type": "execute_result",
          "data": {
            "text/plain": [
              "array([15.,  0., 30.,  2., 14., 28.,  7., 20.,  3., 10.,  1.,  5., 17.,\n",
              "        4., 19.,  6., 21., 12.,  8., 25., 27., 22., 29., 24.,  9., 16.,\n",
              "       18., 23., 13., 26., 11.])"
            ]
          },
          "metadata": {},
          "execution_count": 24
        }
      ]
    },
    {
      "cell_type": "code",
      "source": [
        "#17 DIFFWALK\n",
        "# change 2 to 0 for no. 1 is already yes\n",
        "# remove 7 and 9 for don't know not sure and refused\n",
        "df['DIFFWALK'] = df['DIFFWALK'].replace({2:0})\n",
        "df = df[df.DIFFWALK != 7]\n",
        "df = df[df.DIFFWALK != 9]\n",
        "df.DIFFWALK.unique()"
      ],
      "metadata": {
        "id": "3_CG_16iT1cc",
        "colab": {
          "base_uri": "https://localhost:8080/"
        },
        "outputId": "f39313ac-afb8-4205-de04-5cbf1de71e24"
      },
      "execution_count": null,
      "outputs": [
        {
          "output_type": "execute_result",
          "data": {
            "text/plain": [
              "array([1., 0.])"
            ]
          },
          "metadata": {},
          "execution_count": 25
        }
      ]
    },
    {
      "cell_type": "code",
      "source": [
        "#18 SEX\n",
        "# in other words - is respondent male (somewhat arbitrarily chose this change because men are at higher risk for heart disease)\n",
        "# change 2 to 0 (female as 0). Male is 1\n",
        "df['SEX'] = df['SEX'].replace({2:0})\n",
        "df.SEX.unique()"
      ],
      "metadata": {
        "id": "4d-vWXzeT2YV",
        "colab": {
          "base_uri": "https://localhost:8080/"
        },
        "outputId": "930db415-bd3d-44c5-f0ed-766ba0850b51"
      },
      "execution_count": null,
      "outputs": [
        {
          "output_type": "execute_result",
          "data": {
            "text/plain": [
              "array([0., 1.])"
            ]
          },
          "metadata": {},
          "execution_count": 26
        }
      ]
    },
    {
      "cell_type": "code",
      "source": [
        "#19 _AGEG5YR\n",
        "# already ordinal. 1 is 18-24 all the way up to 13 wis 80 and older. 5 year increments.\n",
        "# remove 14 because it is don't know or missing\n",
        "df = df[df._AGEG5YR != 14]\n",
        "df._AGEG5YR.unique()"
      ],
      "metadata": {
        "id": "9Or9oSRJT3U8",
        "colab": {
          "base_uri": "https://localhost:8080/"
        },
        "outputId": "87576e18-1709-4063-83a9-07bb8dffc932"
      },
      "execution_count": null,
      "outputs": [
        {
          "output_type": "execute_result",
          "data": {
            "text/plain": [
              "array([ 9.,  7., 11., 10., 13.,  8.,  4.,  6.,  2., 12.,  5.,  1.,  3.])"
            ]
          },
          "metadata": {},
          "execution_count": 27
        }
      ]
    },
    {
      "cell_type": "code",
      "source": [
        "#20 EDUCA\n",
        "# This is already an ordinal variable with 1 being never attended school or kindergarten only up to 6 being college 4 years or more\n",
        "# Scale here is 1-6\n",
        "# Remove 9 for refused:\n",
        "df = df[df.EDUCA != 9]\n",
        "df.EDUCA.unique()"
      ],
      "metadata": {
        "id": "hd7o7FlYT4LI",
        "colab": {
          "base_uri": "https://localhost:8080/"
        },
        "outputId": "edef9075-c513-46dd-c2e0-1cb1610aca23"
      },
      "execution_count": null,
      "outputs": [
        {
          "output_type": "execute_result",
          "data": {
            "text/plain": [
              "array([4., 6., 3., 5., 2., 1.])"
            ]
          },
          "metadata": {},
          "execution_count": 28
        }
      ]
    },
    {
      "cell_type": "code",
      "source": [
        "#21 INCOME2\n",
        "# Variable is already ordinal with 1 being less than $10,000 all the way up to 8 being $75,000 or more\n",
        "# Remove 77 and 99 for don't know and refused\n",
        "df = df[df.INCOME2 != 77]\n",
        "df = df[df.INCOME2 != 99]\n",
        "df.INCOME2.unique()"
      ],
      "metadata": {
        "id": "QmCrwkoAT5MK",
        "colab": {
          "base_uri": "https://localhost:8080/"
        },
        "outputId": "53c072e8-9dd0-41b7-d299-c8df197e2bc9"
      },
      "execution_count": null,
      "outputs": [
        {
          "output_type": "execute_result",
          "data": {
            "text/plain": [
              "array([3., 1., 8., 6., 4., 7., 2., 5.])"
            ]
          },
          "metadata": {},
          "execution_count": 29
        }
      ]
    },
    {
      "cell_type": "code",
      "source": [
        "df.info()"
      ],
      "metadata": {
        "colab": {
          "base_uri": "https://localhost:8080/"
        },
        "id": "1KPYZdbppOx3",
        "outputId": "3972c40f-b635-49d3-9bb2-d15f626ecf2e"
      },
      "execution_count": null,
      "outputs": [
        {
          "output_type": "stream",
          "name": "stdout",
          "text": [
            "<class 'pandas.core.frame.DataFrame'>\n",
            "Int64Index: 253680 entries, 0 to 441455\n",
            "Data columns (total 22 columns):\n",
            " #   Column    Non-Null Count   Dtype  \n",
            "---  ------    --------------   -----  \n",
            " 0   DIABETE3  253680 non-null  float64\n",
            " 1   _RFHYPE5  253680 non-null  float64\n",
            " 2   TOLDHI2   253680 non-null  float64\n",
            " 3   _CHOLCHK  253680 non-null  float64\n",
            " 4   _BMI5     253680 non-null  float64\n",
            " 5   SMOKE100  253680 non-null  float64\n",
            " 6   CVDSTRK3  253680 non-null  float64\n",
            " 7   _MICHD    253680 non-null  float64\n",
            " 8   _TOTINDA  253680 non-null  float64\n",
            " 9   _FRTLT1   253680 non-null  float64\n",
            " 10  _VEGLT1   253680 non-null  float64\n",
            " 11  _RFDRHV5  253680 non-null  float64\n",
            " 12  HLTHPLN1  253680 non-null  float64\n",
            " 13  MEDCOST   253680 non-null  float64\n",
            " 14  GENHLTH   253680 non-null  float64\n",
            " 15  MENTHLTH  253680 non-null  float64\n",
            " 16  PHYSHLTH  253680 non-null  float64\n",
            " 17  DIFFWALK  253680 non-null  float64\n",
            " 18  SEX       253680 non-null  float64\n",
            " 19  _AGEG5YR  253680 non-null  float64\n",
            " 20  EDUCA     253680 non-null  float64\n",
            " 21  INCOME2   253680 non-null  float64\n",
            "dtypes: float64(22)\n",
            "memory usage: 44.5 MB\n"
          ]
        }
      ]
    },
    {
      "cell_type": "markdown",
      "source": [
        "# Data Vizualization"
      ],
      "metadata": {
        "id": "YDQOqNw8pV5A"
      }
    },
    {
      "cell_type": "code",
      "source": [
        "# Check whether categorical of numerical features\n",
        "df.nunique().sort_values()"
      ],
      "metadata": {
        "colab": {
          "base_uri": "https://localhost:8080/"
        },
        "id": "4C6Mxgrapz_r",
        "outputId": "21d0e50f-7f55-48ce-eb7a-4ed356cd6ceb"
      },
      "execution_count": null,
      "outputs": [
        {
          "output_type": "execute_result",
          "data": {
            "text/plain": [
              "_VEGLT1      2\n",
              "_RFHYPE5     2\n",
              "TOLDHI2      2\n",
              "_CHOLCHK     2\n",
              "SEX          2\n",
              "SMOKE100     2\n",
              "CVDSTRK3     2\n",
              "_MICHD       2\n",
              "_TOTINDA     2\n",
              "_FRTLT1      2\n",
              "DIFFWALK     2\n",
              "_RFDRHV5     2\n",
              "HLTHPLN1     2\n",
              "MEDCOST      2\n",
              "DIABETE3     3\n",
              "GENHLTH      5\n",
              "EDUCA        6\n",
              "INCOME2      8\n",
              "_AGEG5YR    13\n",
              "MENTHLTH    31\n",
              "PHYSHLTH    31\n",
              "_BMI5       84\n",
              "dtype: int64"
            ]
          },
          "metadata": {},
          "execution_count": 31
        }
      ]
    },
    {
      "cell_type": "markdown",
      "source": [
        "# Machine Learning"
      ],
      "metadata": {
        "id": "ObDRme5fVTQF"
      }
    },
    {
      "cell_type": "markdown",
      "source": [
        "## Data Processing for ML"
      ],
      "metadata": {
        "id": "jKX3mnVLvI7z"
      }
    },
    {
      "cell_type": "code",
      "source": [
        "# Get the dummy variables \n",
        "_RFHYPE5 = pd.get_dummies(df._RFHYPE5, drop_first=True, prefix='_RFHYPE5')\n",
        "TOLDHI2 = pd.get_dummies(df.TOLDHI2, drop_first=True, prefix='TOLDHI2')\n",
        "_CHOLCHK = pd.get_dummies(df._CHOLCHK, drop_first=True, prefix='_CHOLCHK')\n",
        "SMOKE100 = pd.get_dummies(df.SMOKE100, drop_first=True, prefix='SMOKE100')\n",
        "\n",
        "CVDSTRK3 = pd.get_dummies(df.CVDSTRK3, drop_first=True, prefix='CVDSTRK3')\n",
        "_MICHD = pd.get_dummies(df._MICHD, drop_first=True, prefix='_MICHD')\n",
        "_TOTINDA = pd.get_dummies(df._TOTINDA, drop_first=True, prefix='_TOTINDA')\n",
        "_FRTLT1 = pd.get_dummies(df._FRTLT1, drop_first=True, prefix='_FRTLT1')\n",
        "\n",
        "_VEGLT1 = pd.get_dummies(df._VEGLT1, drop_first=True, prefix='_VEGLT1')\n",
        "_RFDRHV5 = pd.get_dummies(df._RFDRHV5, drop_first=True, prefix='_RFDRHV5')\n",
        "HLTHPLN1 = pd.get_dummies(df.HLTHPLN1, drop_first=True, prefix='HLTHPLN1')\n",
        "MEDCOST = pd.get_dummies(df.MEDCOST, drop_first=True, prefix='MEDCOST')\n",
        "\n",
        "GENHLTH = pd.get_dummies(df.GENHLTH, drop_first=True, prefix='GENHLTH')\n",
        "DIFFWALK = pd.get_dummies(df.DIFFWALK, drop_first=True, prefix='DIFFWALK')\n",
        "SEX = pd.get_dummies(df.SEX, drop_first=True, prefix='SEX')\n",
        "EDUCA = pd.get_dummies(df.EDUCA, drop_first=True, prefix='EDUCA')\n",
        "INCOME2 = pd.get_dummies(df.INCOME2, drop_first=True, prefix='INCOME2')\n",
        "_AGEG5YR = pd.get_dummies(df._AGEG5YR, drop_first=True, prefix='_AGEG5YR')\n",
        "\n",
        "# Drop un-encoded features\n",
        "df.drop(['_RFHYPE5','TOLDHI2','_CHOLCHK','SMOKE100', 'CVDSTRK3', '_MICHD', '_TOTINDA', '_FRTLT1',\n",
        "         '_VEGLT1', '_RFDRHV5', 'HLTHPLN1', 'MEDCOST', 'GENHLTH', 'DIFFWALK', 'SEX', 'EDUCA', 'INCOME2', '_AGEG5YR'], \n",
        "         axis = 1, inplace = True)\n",
        "\n",
        "# Add the results to the original df\n",
        "df = pd.concat([_RFHYPE5,TOLDHI2,_CHOLCHK,SMOKE100, CVDSTRK3, _MICHD, _TOTINDA, _FRTLT1,\n",
        "         _VEGLT1, _RFDRHV5, HLTHPLN1, MEDCOST, GENHLTH, DIFFWALK, SEX, EDUCA, INCOME2, _AGEG5YR,\n",
        "          df], axis=1)\n",
        "\n",
        "df.head()"
      ],
      "metadata": {
        "id": "UhbwMkq2VVB_",
        "colab": {
          "base_uri": "https://localhost:8080/",
          "height": 270
        },
        "outputId": "f88efa1f-987f-4fee-8e25-1d19187328ae"
      },
      "execution_count": null,
      "outputs": [
        {
          "output_type": "execute_result",
          "data": {
            "text/html": [
              "\n",
              "  <div id=\"df-31c658af-8922-46af-beeb-eb5398dc43ae\">\n",
              "    <div class=\"colab-df-container\">\n",
              "      <div>\n",
              "<style scoped>\n",
              "    .dataframe tbody tr th:only-of-type {\n",
              "        vertical-align: middle;\n",
              "    }\n",
              "\n",
              "    .dataframe tbody tr th {\n",
              "        vertical-align: top;\n",
              "    }\n",
              "\n",
              "    .dataframe thead th {\n",
              "        text-align: right;\n",
              "    }\n",
              "</style>\n",
              "<table border=\"1\" class=\"dataframe\">\n",
              "  <thead>\n",
              "    <tr style=\"text-align: right;\">\n",
              "      <th></th>\n",
              "      <th>_RFHYPE5_1.0</th>\n",
              "      <th>TOLDHI2_1.0</th>\n",
              "      <th>_CHOLCHK_1.0</th>\n",
              "      <th>SMOKE100_1.0</th>\n",
              "      <th>CVDSTRK3_1.0</th>\n",
              "      <th>_MICHD_1.0</th>\n",
              "      <th>_TOTINDA_1.0</th>\n",
              "      <th>_FRTLT1_1.0</th>\n",
              "      <th>_VEGLT1_1.0</th>\n",
              "      <th>_RFDRHV5_1.0</th>\n",
              "      <th>HLTHPLN1_1.0</th>\n",
              "      <th>MEDCOST_1.0</th>\n",
              "      <th>GENHLTH_2.0</th>\n",
              "      <th>GENHLTH_3.0</th>\n",
              "      <th>GENHLTH_4.0</th>\n",
              "      <th>GENHLTH_5.0</th>\n",
              "      <th>DIFFWALK_1.0</th>\n",
              "      <th>SEX_1.0</th>\n",
              "      <th>EDUCA_2.0</th>\n",
              "      <th>EDUCA_3.0</th>\n",
              "      <th>EDUCA_4.0</th>\n",
              "      <th>EDUCA_5.0</th>\n",
              "      <th>EDUCA_6.0</th>\n",
              "      <th>INCOME2_2.0</th>\n",
              "      <th>INCOME2_3.0</th>\n",
              "      <th>INCOME2_4.0</th>\n",
              "      <th>INCOME2_5.0</th>\n",
              "      <th>INCOME2_6.0</th>\n",
              "      <th>INCOME2_7.0</th>\n",
              "      <th>INCOME2_8.0</th>\n",
              "      <th>_AGEG5YR_2.0</th>\n",
              "      <th>_AGEG5YR_3.0</th>\n",
              "      <th>_AGEG5YR_4.0</th>\n",
              "      <th>_AGEG5YR_5.0</th>\n",
              "      <th>_AGEG5YR_6.0</th>\n",
              "      <th>_AGEG5YR_7.0</th>\n",
              "      <th>_AGEG5YR_8.0</th>\n",
              "      <th>_AGEG5YR_9.0</th>\n",
              "      <th>_AGEG5YR_10.0</th>\n",
              "      <th>_AGEG5YR_11.0</th>\n",
              "      <th>_AGEG5YR_12.0</th>\n",
              "      <th>_AGEG5YR_13.0</th>\n",
              "      <th>DIABETE3</th>\n",
              "      <th>_BMI5</th>\n",
              "      <th>MENTHLTH</th>\n",
              "      <th>PHYSHLTH</th>\n",
              "    </tr>\n",
              "  </thead>\n",
              "  <tbody>\n",
              "    <tr>\n",
              "      <th>0</th>\n",
              "      <td>1</td>\n",
              "      <td>1</td>\n",
              "      <td>1</td>\n",
              "      <td>1</td>\n",
              "      <td>0</td>\n",
              "      <td>0</td>\n",
              "      <td>0</td>\n",
              "      <td>0</td>\n",
              "      <td>1</td>\n",
              "      <td>0</td>\n",
              "      <td>1</td>\n",
              "      <td>0</td>\n",
              "      <td>0</td>\n",
              "      <td>0</td>\n",
              "      <td>0</td>\n",
              "      <td>1</td>\n",
              "      <td>1</td>\n",
              "      <td>0</td>\n",
              "      <td>0</td>\n",
              "      <td>0</td>\n",
              "      <td>1</td>\n",
              "      <td>0</td>\n",
              "      <td>0</td>\n",
              "      <td>0</td>\n",
              "      <td>1</td>\n",
              "      <td>0</td>\n",
              "      <td>0</td>\n",
              "      <td>0</td>\n",
              "      <td>0</td>\n",
              "      <td>0</td>\n",
              "      <td>0</td>\n",
              "      <td>0</td>\n",
              "      <td>0</td>\n",
              "      <td>0</td>\n",
              "      <td>0</td>\n",
              "      <td>0</td>\n",
              "      <td>0</td>\n",
              "      <td>1</td>\n",
              "      <td>0</td>\n",
              "      <td>0</td>\n",
              "      <td>0</td>\n",
              "      <td>0</td>\n",
              "      <td>0.0</td>\n",
              "      <td>40.0</td>\n",
              "      <td>18.0</td>\n",
              "      <td>15.0</td>\n",
              "    </tr>\n",
              "    <tr>\n",
              "      <th>1</th>\n",
              "      <td>0</td>\n",
              "      <td>0</td>\n",
              "      <td>0</td>\n",
              "      <td>1</td>\n",
              "      <td>0</td>\n",
              "      <td>0</td>\n",
              "      <td>1</td>\n",
              "      <td>0</td>\n",
              "      <td>0</td>\n",
              "      <td>0</td>\n",
              "      <td>0</td>\n",
              "      <td>1</td>\n",
              "      <td>0</td>\n",
              "      <td>1</td>\n",
              "      <td>0</td>\n",
              "      <td>0</td>\n",
              "      <td>0</td>\n",
              "      <td>0</td>\n",
              "      <td>0</td>\n",
              "      <td>0</td>\n",
              "      <td>0</td>\n",
              "      <td>0</td>\n",
              "      <td>1</td>\n",
              "      <td>0</td>\n",
              "      <td>0</td>\n",
              "      <td>0</td>\n",
              "      <td>0</td>\n",
              "      <td>0</td>\n",
              "      <td>0</td>\n",
              "      <td>0</td>\n",
              "      <td>0</td>\n",
              "      <td>0</td>\n",
              "      <td>0</td>\n",
              "      <td>0</td>\n",
              "      <td>0</td>\n",
              "      <td>1</td>\n",
              "      <td>0</td>\n",
              "      <td>0</td>\n",
              "      <td>0</td>\n",
              "      <td>0</td>\n",
              "      <td>0</td>\n",
              "      <td>0</td>\n",
              "      <td>0.0</td>\n",
              "      <td>25.0</td>\n",
              "      <td>0.0</td>\n",
              "      <td>0.0</td>\n",
              "    </tr>\n",
              "    <tr>\n",
              "      <th>3</th>\n",
              "      <td>1</td>\n",
              "      <td>1</td>\n",
              "      <td>1</td>\n",
              "      <td>0</td>\n",
              "      <td>0</td>\n",
              "      <td>0</td>\n",
              "      <td>0</td>\n",
              "      <td>1</td>\n",
              "      <td>0</td>\n",
              "      <td>0</td>\n",
              "      <td>1</td>\n",
              "      <td>1</td>\n",
              "      <td>0</td>\n",
              "      <td>0</td>\n",
              "      <td>0</td>\n",
              "      <td>1</td>\n",
              "      <td>1</td>\n",
              "      <td>0</td>\n",
              "      <td>0</td>\n",
              "      <td>0</td>\n",
              "      <td>1</td>\n",
              "      <td>0</td>\n",
              "      <td>0</td>\n",
              "      <td>0</td>\n",
              "      <td>0</td>\n",
              "      <td>0</td>\n",
              "      <td>0</td>\n",
              "      <td>0</td>\n",
              "      <td>0</td>\n",
              "      <td>1</td>\n",
              "      <td>0</td>\n",
              "      <td>0</td>\n",
              "      <td>0</td>\n",
              "      <td>0</td>\n",
              "      <td>0</td>\n",
              "      <td>0</td>\n",
              "      <td>0</td>\n",
              "      <td>1</td>\n",
              "      <td>0</td>\n",
              "      <td>0</td>\n",
              "      <td>0</td>\n",
              "      <td>0</td>\n",
              "      <td>0.0</td>\n",
              "      <td>28.0</td>\n",
              "      <td>30.0</td>\n",
              "      <td>30.0</td>\n",
              "    </tr>\n",
              "    <tr>\n",
              "      <th>5</th>\n",
              "      <td>1</td>\n",
              "      <td>0</td>\n",
              "      <td>1</td>\n",
              "      <td>0</td>\n",
              "      <td>0</td>\n",
              "      <td>0</td>\n",
              "      <td>1</td>\n",
              "      <td>1</td>\n",
              "      <td>1</td>\n",
              "      <td>0</td>\n",
              "      <td>1</td>\n",
              "      <td>0</td>\n",
              "      <td>1</td>\n",
              "      <td>0</td>\n",
              "      <td>0</td>\n",
              "      <td>0</td>\n",
              "      <td>0</td>\n",
              "      <td>0</td>\n",
              "      <td>0</td>\n",
              "      <td>1</td>\n",
              "      <td>0</td>\n",
              "      <td>0</td>\n",
              "      <td>0</td>\n",
              "      <td>0</td>\n",
              "      <td>0</td>\n",
              "      <td>0</td>\n",
              "      <td>0</td>\n",
              "      <td>1</td>\n",
              "      <td>0</td>\n",
              "      <td>0</td>\n",
              "      <td>0</td>\n",
              "      <td>0</td>\n",
              "      <td>0</td>\n",
              "      <td>0</td>\n",
              "      <td>0</td>\n",
              "      <td>0</td>\n",
              "      <td>0</td>\n",
              "      <td>0</td>\n",
              "      <td>0</td>\n",
              "      <td>1</td>\n",
              "      <td>0</td>\n",
              "      <td>0</td>\n",
              "      <td>0.0</td>\n",
              "      <td>27.0</td>\n",
              "      <td>0.0</td>\n",
              "      <td>0.0</td>\n",
              "    </tr>\n",
              "    <tr>\n",
              "      <th>6</th>\n",
              "      <td>1</td>\n",
              "      <td>1</td>\n",
              "      <td>1</td>\n",
              "      <td>0</td>\n",
              "      <td>0</td>\n",
              "      <td>0</td>\n",
              "      <td>1</td>\n",
              "      <td>1</td>\n",
              "      <td>1</td>\n",
              "      <td>0</td>\n",
              "      <td>1</td>\n",
              "      <td>0</td>\n",
              "      <td>1</td>\n",
              "      <td>0</td>\n",
              "      <td>0</td>\n",
              "      <td>0</td>\n",
              "      <td>0</td>\n",
              "      <td>0</td>\n",
              "      <td>0</td>\n",
              "      <td>0</td>\n",
              "      <td>0</td>\n",
              "      <td>1</td>\n",
              "      <td>0</td>\n",
              "      <td>0</td>\n",
              "      <td>0</td>\n",
              "      <td>1</td>\n",
              "      <td>0</td>\n",
              "      <td>0</td>\n",
              "      <td>0</td>\n",
              "      <td>0</td>\n",
              "      <td>0</td>\n",
              "      <td>0</td>\n",
              "      <td>0</td>\n",
              "      <td>0</td>\n",
              "      <td>0</td>\n",
              "      <td>0</td>\n",
              "      <td>0</td>\n",
              "      <td>0</td>\n",
              "      <td>0</td>\n",
              "      <td>1</td>\n",
              "      <td>0</td>\n",
              "      <td>0</td>\n",
              "      <td>0.0</td>\n",
              "      <td>24.0</td>\n",
              "      <td>3.0</td>\n",
              "      <td>0.0</td>\n",
              "    </tr>\n",
              "  </tbody>\n",
              "</table>\n",
              "</div>\n",
              "      <button class=\"colab-df-convert\" onclick=\"convertToInteractive('df-31c658af-8922-46af-beeb-eb5398dc43ae')\"\n",
              "              title=\"Convert this dataframe to an interactive table.\"\n",
              "              style=\"display:none;\">\n",
              "        \n",
              "  <svg xmlns=\"http://www.w3.org/2000/svg\" height=\"24px\"viewBox=\"0 0 24 24\"\n",
              "       width=\"24px\">\n",
              "    <path d=\"M0 0h24v24H0V0z\" fill=\"none\"/>\n",
              "    <path d=\"M18.56 5.44l.94 2.06.94-2.06 2.06-.94-2.06-.94-.94-2.06-.94 2.06-2.06.94zm-11 1L8.5 8.5l.94-2.06 2.06-.94-2.06-.94L8.5 2.5l-.94 2.06-2.06.94zm10 10l.94 2.06.94-2.06 2.06-.94-2.06-.94-.94-2.06-.94 2.06-2.06.94z\"/><path d=\"M17.41 7.96l-1.37-1.37c-.4-.4-.92-.59-1.43-.59-.52 0-1.04.2-1.43.59L10.3 9.45l-7.72 7.72c-.78.78-.78 2.05 0 2.83L4 21.41c.39.39.9.59 1.41.59.51 0 1.02-.2 1.41-.59l7.78-7.78 2.81-2.81c.8-.78.8-2.07 0-2.86zM5.41 20L4 18.59l7.72-7.72 1.47 1.35L5.41 20z\"/>\n",
              "  </svg>\n",
              "      </button>\n",
              "      \n",
              "  <style>\n",
              "    .colab-df-container {\n",
              "      display:flex;\n",
              "      flex-wrap:wrap;\n",
              "      gap: 12px;\n",
              "    }\n",
              "\n",
              "    .colab-df-convert {\n",
              "      background-color: #E8F0FE;\n",
              "      border: none;\n",
              "      border-radius: 50%;\n",
              "      cursor: pointer;\n",
              "      display: none;\n",
              "      fill: #1967D2;\n",
              "      height: 32px;\n",
              "      padding: 0 0 0 0;\n",
              "      width: 32px;\n",
              "    }\n",
              "\n",
              "    .colab-df-convert:hover {\n",
              "      background-color: #E2EBFA;\n",
              "      box-shadow: 0px 1px 2px rgba(60, 64, 67, 0.3), 0px 1px 3px 1px rgba(60, 64, 67, 0.15);\n",
              "      fill: #174EA6;\n",
              "    }\n",
              "\n",
              "    [theme=dark] .colab-df-convert {\n",
              "      background-color: #3B4455;\n",
              "      fill: #D2E3FC;\n",
              "    }\n",
              "\n",
              "    [theme=dark] .colab-df-convert:hover {\n",
              "      background-color: #434B5C;\n",
              "      box-shadow: 0px 1px 3px 1px rgba(0, 0, 0, 0.15);\n",
              "      filter: drop-shadow(0px 1px 2px rgba(0, 0, 0, 0.3));\n",
              "      fill: #FFFFFF;\n",
              "    }\n",
              "  </style>\n",
              "\n",
              "      <script>\n",
              "        const buttonEl =\n",
              "          document.querySelector('#df-31c658af-8922-46af-beeb-eb5398dc43ae button.colab-df-convert');\n",
              "        buttonEl.style.display =\n",
              "          google.colab.kernel.accessAllowed ? 'block' : 'none';\n",
              "\n",
              "        async function convertToInteractive(key) {\n",
              "          const element = document.querySelector('#df-31c658af-8922-46af-beeb-eb5398dc43ae');\n",
              "          const dataTable =\n",
              "            await google.colab.kernel.invokeFunction('convertToInteractive',\n",
              "                                                     [key], {});\n",
              "          if (!dataTable) return;\n",
              "\n",
              "          const docLinkHtml = 'Like what you see? Visit the ' +\n",
              "            '<a target=\"_blank\" href=https://colab.research.google.com/notebooks/data_table.ipynb>data table notebook</a>'\n",
              "            + ' to learn more about interactive tables.';\n",
              "          element.innerHTML = '';\n",
              "          dataTable['output_type'] = 'display_data';\n",
              "          await google.colab.output.renderOutput(dataTable, element);\n",
              "          const docLink = document.createElement('div');\n",
              "          docLink.innerHTML = docLinkHtml;\n",
              "          element.appendChild(docLink);\n",
              "        }\n",
              "      </script>\n",
              "    </div>\n",
              "  </div>\n",
              "  "
            ],
            "text/plain": [
              "   _RFHYPE5_1.0  TOLDHI2_1.0  _CHOLCHK_1.0  ...  _BMI5  MENTHLTH  PHYSHLTH\n",
              "0             1            1             1  ...   40.0      18.0      15.0\n",
              "1             0            0             0  ...   25.0       0.0       0.0\n",
              "3             1            1             1  ...   28.0      30.0      30.0\n",
              "5             1            0             1  ...   27.0       0.0       0.0\n",
              "6             1            1             1  ...   24.0       3.0       0.0\n",
              "\n",
              "[5 rows x 46 columns]"
            ]
          },
          "metadata": {},
          "execution_count": 32
        }
      ]
    },
    {
      "cell_type": "code",
      "source": [
        "from sklearn.preprocessing import MinMaxScaler\n",
        "\n",
        "# Instantiate a MinMaxScaler object\n",
        "scaler = MinMaxScaler()\n",
        "\n",
        "# Create a list of continuous features\n",
        "con_feat = ['_BMI5', 'MENTHLTH', 'PHYSHLTH']\n",
        "\n",
        "# Fit on dataset\n",
        "df[con_feat] = scaler.fit_transform(df[con_feat])\n",
        "df.head()"
      ],
      "metadata": {
        "colab": {
          "base_uri": "https://localhost:8080/",
          "height": 270
        },
        "id": "gZWsDkca0FdZ",
        "outputId": "ca0112d0-5b6f-4a93-db0d-3ea40ea1b20b"
      },
      "execution_count": null,
      "outputs": [
        {
          "output_type": "execute_result",
          "data": {
            "text/html": [
              "\n",
              "  <div id=\"df-3c6b2369-bcb4-46e7-bae2-393b724b858a\">\n",
              "    <div class=\"colab-df-container\">\n",
              "      <div>\n",
              "<style scoped>\n",
              "    .dataframe tbody tr th:only-of-type {\n",
              "        vertical-align: middle;\n",
              "    }\n",
              "\n",
              "    .dataframe tbody tr th {\n",
              "        vertical-align: top;\n",
              "    }\n",
              "\n",
              "    .dataframe thead th {\n",
              "        text-align: right;\n",
              "    }\n",
              "</style>\n",
              "<table border=\"1\" class=\"dataframe\">\n",
              "  <thead>\n",
              "    <tr style=\"text-align: right;\">\n",
              "      <th></th>\n",
              "      <th>_RFHYPE5_1.0</th>\n",
              "      <th>TOLDHI2_1.0</th>\n",
              "      <th>_CHOLCHK_1.0</th>\n",
              "      <th>SMOKE100_1.0</th>\n",
              "      <th>CVDSTRK3_1.0</th>\n",
              "      <th>_MICHD_1.0</th>\n",
              "      <th>_TOTINDA_1.0</th>\n",
              "      <th>_FRTLT1_1.0</th>\n",
              "      <th>_VEGLT1_1.0</th>\n",
              "      <th>_RFDRHV5_1.0</th>\n",
              "      <th>HLTHPLN1_1.0</th>\n",
              "      <th>MEDCOST_1.0</th>\n",
              "      <th>GENHLTH_2.0</th>\n",
              "      <th>GENHLTH_3.0</th>\n",
              "      <th>GENHLTH_4.0</th>\n",
              "      <th>GENHLTH_5.0</th>\n",
              "      <th>DIFFWALK_1.0</th>\n",
              "      <th>SEX_1.0</th>\n",
              "      <th>EDUCA_2.0</th>\n",
              "      <th>EDUCA_3.0</th>\n",
              "      <th>EDUCA_4.0</th>\n",
              "      <th>EDUCA_5.0</th>\n",
              "      <th>EDUCA_6.0</th>\n",
              "      <th>INCOME2_2.0</th>\n",
              "      <th>INCOME2_3.0</th>\n",
              "      <th>INCOME2_4.0</th>\n",
              "      <th>INCOME2_5.0</th>\n",
              "      <th>INCOME2_6.0</th>\n",
              "      <th>INCOME2_7.0</th>\n",
              "      <th>INCOME2_8.0</th>\n",
              "      <th>_AGEG5YR_2.0</th>\n",
              "      <th>_AGEG5YR_3.0</th>\n",
              "      <th>_AGEG5YR_4.0</th>\n",
              "      <th>_AGEG5YR_5.0</th>\n",
              "      <th>_AGEG5YR_6.0</th>\n",
              "      <th>_AGEG5YR_7.0</th>\n",
              "      <th>_AGEG5YR_8.0</th>\n",
              "      <th>_AGEG5YR_9.0</th>\n",
              "      <th>_AGEG5YR_10.0</th>\n",
              "      <th>_AGEG5YR_11.0</th>\n",
              "      <th>_AGEG5YR_12.0</th>\n",
              "      <th>_AGEG5YR_13.0</th>\n",
              "      <th>DIABETE3</th>\n",
              "      <th>_BMI5</th>\n",
              "      <th>MENTHLTH</th>\n",
              "      <th>PHYSHLTH</th>\n",
              "    </tr>\n",
              "  </thead>\n",
              "  <tbody>\n",
              "    <tr>\n",
              "      <th>0</th>\n",
              "      <td>1</td>\n",
              "      <td>1</td>\n",
              "      <td>1</td>\n",
              "      <td>1</td>\n",
              "      <td>0</td>\n",
              "      <td>0</td>\n",
              "      <td>0</td>\n",
              "      <td>0</td>\n",
              "      <td>1</td>\n",
              "      <td>0</td>\n",
              "      <td>1</td>\n",
              "      <td>0</td>\n",
              "      <td>0</td>\n",
              "      <td>0</td>\n",
              "      <td>0</td>\n",
              "      <td>1</td>\n",
              "      <td>1</td>\n",
              "      <td>0</td>\n",
              "      <td>0</td>\n",
              "      <td>0</td>\n",
              "      <td>1</td>\n",
              "      <td>0</td>\n",
              "      <td>0</td>\n",
              "      <td>0</td>\n",
              "      <td>1</td>\n",
              "      <td>0</td>\n",
              "      <td>0</td>\n",
              "      <td>0</td>\n",
              "      <td>0</td>\n",
              "      <td>0</td>\n",
              "      <td>0</td>\n",
              "      <td>0</td>\n",
              "      <td>0</td>\n",
              "      <td>0</td>\n",
              "      <td>0</td>\n",
              "      <td>0</td>\n",
              "      <td>0</td>\n",
              "      <td>1</td>\n",
              "      <td>0</td>\n",
              "      <td>0</td>\n",
              "      <td>0</td>\n",
              "      <td>0</td>\n",
              "      <td>0.0</td>\n",
              "      <td>0.325581</td>\n",
              "      <td>0.6</td>\n",
              "      <td>0.5</td>\n",
              "    </tr>\n",
              "    <tr>\n",
              "      <th>1</th>\n",
              "      <td>0</td>\n",
              "      <td>0</td>\n",
              "      <td>0</td>\n",
              "      <td>1</td>\n",
              "      <td>0</td>\n",
              "      <td>0</td>\n",
              "      <td>1</td>\n",
              "      <td>0</td>\n",
              "      <td>0</td>\n",
              "      <td>0</td>\n",
              "      <td>0</td>\n",
              "      <td>1</td>\n",
              "      <td>0</td>\n",
              "      <td>1</td>\n",
              "      <td>0</td>\n",
              "      <td>0</td>\n",
              "      <td>0</td>\n",
              "      <td>0</td>\n",
              "      <td>0</td>\n",
              "      <td>0</td>\n",
              "      <td>0</td>\n",
              "      <td>0</td>\n",
              "      <td>1</td>\n",
              "      <td>0</td>\n",
              "      <td>0</td>\n",
              "      <td>0</td>\n",
              "      <td>0</td>\n",
              "      <td>0</td>\n",
              "      <td>0</td>\n",
              "      <td>0</td>\n",
              "      <td>0</td>\n",
              "      <td>0</td>\n",
              "      <td>0</td>\n",
              "      <td>0</td>\n",
              "      <td>0</td>\n",
              "      <td>1</td>\n",
              "      <td>0</td>\n",
              "      <td>0</td>\n",
              "      <td>0</td>\n",
              "      <td>0</td>\n",
              "      <td>0</td>\n",
              "      <td>0</td>\n",
              "      <td>0.0</td>\n",
              "      <td>0.151163</td>\n",
              "      <td>0.0</td>\n",
              "      <td>0.0</td>\n",
              "    </tr>\n",
              "    <tr>\n",
              "      <th>3</th>\n",
              "      <td>1</td>\n",
              "      <td>1</td>\n",
              "      <td>1</td>\n",
              "      <td>0</td>\n",
              "      <td>0</td>\n",
              "      <td>0</td>\n",
              "      <td>0</td>\n",
              "      <td>1</td>\n",
              "      <td>0</td>\n",
              "      <td>0</td>\n",
              "      <td>1</td>\n",
              "      <td>1</td>\n",
              "      <td>0</td>\n",
              "      <td>0</td>\n",
              "      <td>0</td>\n",
              "      <td>1</td>\n",
              "      <td>1</td>\n",
              "      <td>0</td>\n",
              "      <td>0</td>\n",
              "      <td>0</td>\n",
              "      <td>1</td>\n",
              "      <td>0</td>\n",
              "      <td>0</td>\n",
              "      <td>0</td>\n",
              "      <td>0</td>\n",
              "      <td>0</td>\n",
              "      <td>0</td>\n",
              "      <td>0</td>\n",
              "      <td>0</td>\n",
              "      <td>1</td>\n",
              "      <td>0</td>\n",
              "      <td>0</td>\n",
              "      <td>0</td>\n",
              "      <td>0</td>\n",
              "      <td>0</td>\n",
              "      <td>0</td>\n",
              "      <td>0</td>\n",
              "      <td>1</td>\n",
              "      <td>0</td>\n",
              "      <td>0</td>\n",
              "      <td>0</td>\n",
              "      <td>0</td>\n",
              "      <td>0.0</td>\n",
              "      <td>0.186047</td>\n",
              "      <td>1.0</td>\n",
              "      <td>1.0</td>\n",
              "    </tr>\n",
              "    <tr>\n",
              "      <th>5</th>\n",
              "      <td>1</td>\n",
              "      <td>0</td>\n",
              "      <td>1</td>\n",
              "      <td>0</td>\n",
              "      <td>0</td>\n",
              "      <td>0</td>\n",
              "      <td>1</td>\n",
              "      <td>1</td>\n",
              "      <td>1</td>\n",
              "      <td>0</td>\n",
              "      <td>1</td>\n",
              "      <td>0</td>\n",
              "      <td>1</td>\n",
              "      <td>0</td>\n",
              "      <td>0</td>\n",
              "      <td>0</td>\n",
              "      <td>0</td>\n",
              "      <td>0</td>\n",
              "      <td>0</td>\n",
              "      <td>1</td>\n",
              "      <td>0</td>\n",
              "      <td>0</td>\n",
              "      <td>0</td>\n",
              "      <td>0</td>\n",
              "      <td>0</td>\n",
              "      <td>0</td>\n",
              "      <td>0</td>\n",
              "      <td>1</td>\n",
              "      <td>0</td>\n",
              "      <td>0</td>\n",
              "      <td>0</td>\n",
              "      <td>0</td>\n",
              "      <td>0</td>\n",
              "      <td>0</td>\n",
              "      <td>0</td>\n",
              "      <td>0</td>\n",
              "      <td>0</td>\n",
              "      <td>0</td>\n",
              "      <td>0</td>\n",
              "      <td>1</td>\n",
              "      <td>0</td>\n",
              "      <td>0</td>\n",
              "      <td>0.0</td>\n",
              "      <td>0.174419</td>\n",
              "      <td>0.0</td>\n",
              "      <td>0.0</td>\n",
              "    </tr>\n",
              "    <tr>\n",
              "      <th>6</th>\n",
              "      <td>1</td>\n",
              "      <td>1</td>\n",
              "      <td>1</td>\n",
              "      <td>0</td>\n",
              "      <td>0</td>\n",
              "      <td>0</td>\n",
              "      <td>1</td>\n",
              "      <td>1</td>\n",
              "      <td>1</td>\n",
              "      <td>0</td>\n",
              "      <td>1</td>\n",
              "      <td>0</td>\n",
              "      <td>1</td>\n",
              "      <td>0</td>\n",
              "      <td>0</td>\n",
              "      <td>0</td>\n",
              "      <td>0</td>\n",
              "      <td>0</td>\n",
              "      <td>0</td>\n",
              "      <td>0</td>\n",
              "      <td>0</td>\n",
              "      <td>1</td>\n",
              "      <td>0</td>\n",
              "      <td>0</td>\n",
              "      <td>0</td>\n",
              "      <td>1</td>\n",
              "      <td>0</td>\n",
              "      <td>0</td>\n",
              "      <td>0</td>\n",
              "      <td>0</td>\n",
              "      <td>0</td>\n",
              "      <td>0</td>\n",
              "      <td>0</td>\n",
              "      <td>0</td>\n",
              "      <td>0</td>\n",
              "      <td>0</td>\n",
              "      <td>0</td>\n",
              "      <td>0</td>\n",
              "      <td>0</td>\n",
              "      <td>1</td>\n",
              "      <td>0</td>\n",
              "      <td>0</td>\n",
              "      <td>0.0</td>\n",
              "      <td>0.139535</td>\n",
              "      <td>0.1</td>\n",
              "      <td>0.0</td>\n",
              "    </tr>\n",
              "  </tbody>\n",
              "</table>\n",
              "</div>\n",
              "      <button class=\"colab-df-convert\" onclick=\"convertToInteractive('df-3c6b2369-bcb4-46e7-bae2-393b724b858a')\"\n",
              "              title=\"Convert this dataframe to an interactive table.\"\n",
              "              style=\"display:none;\">\n",
              "        \n",
              "  <svg xmlns=\"http://www.w3.org/2000/svg\" height=\"24px\"viewBox=\"0 0 24 24\"\n",
              "       width=\"24px\">\n",
              "    <path d=\"M0 0h24v24H0V0z\" fill=\"none\"/>\n",
              "    <path d=\"M18.56 5.44l.94 2.06.94-2.06 2.06-.94-2.06-.94-.94-2.06-.94 2.06-2.06.94zm-11 1L8.5 8.5l.94-2.06 2.06-.94-2.06-.94L8.5 2.5l-.94 2.06-2.06.94zm10 10l.94 2.06.94-2.06 2.06-.94-2.06-.94-.94-2.06-.94 2.06-2.06.94z\"/><path d=\"M17.41 7.96l-1.37-1.37c-.4-.4-.92-.59-1.43-.59-.52 0-1.04.2-1.43.59L10.3 9.45l-7.72 7.72c-.78.78-.78 2.05 0 2.83L4 21.41c.39.39.9.59 1.41.59.51 0 1.02-.2 1.41-.59l7.78-7.78 2.81-2.81c.8-.78.8-2.07 0-2.86zM5.41 20L4 18.59l7.72-7.72 1.47 1.35L5.41 20z\"/>\n",
              "  </svg>\n",
              "      </button>\n",
              "      \n",
              "  <style>\n",
              "    .colab-df-container {\n",
              "      display:flex;\n",
              "      flex-wrap:wrap;\n",
              "      gap: 12px;\n",
              "    }\n",
              "\n",
              "    .colab-df-convert {\n",
              "      background-color: #E8F0FE;\n",
              "      border: none;\n",
              "      border-radius: 50%;\n",
              "      cursor: pointer;\n",
              "      display: none;\n",
              "      fill: #1967D2;\n",
              "      height: 32px;\n",
              "      padding: 0 0 0 0;\n",
              "      width: 32px;\n",
              "    }\n",
              "\n",
              "    .colab-df-convert:hover {\n",
              "      background-color: #E2EBFA;\n",
              "      box-shadow: 0px 1px 2px rgba(60, 64, 67, 0.3), 0px 1px 3px 1px rgba(60, 64, 67, 0.15);\n",
              "      fill: #174EA6;\n",
              "    }\n",
              "\n",
              "    [theme=dark] .colab-df-convert {\n",
              "      background-color: #3B4455;\n",
              "      fill: #D2E3FC;\n",
              "    }\n",
              "\n",
              "    [theme=dark] .colab-df-convert:hover {\n",
              "      background-color: #434B5C;\n",
              "      box-shadow: 0px 1px 3px 1px rgba(0, 0, 0, 0.15);\n",
              "      filter: drop-shadow(0px 1px 2px rgba(0, 0, 0, 0.3));\n",
              "      fill: #FFFFFF;\n",
              "    }\n",
              "  </style>\n",
              "\n",
              "      <script>\n",
              "        const buttonEl =\n",
              "          document.querySelector('#df-3c6b2369-bcb4-46e7-bae2-393b724b858a button.colab-df-convert');\n",
              "        buttonEl.style.display =\n",
              "          google.colab.kernel.accessAllowed ? 'block' : 'none';\n",
              "\n",
              "        async function convertToInteractive(key) {\n",
              "          const element = document.querySelector('#df-3c6b2369-bcb4-46e7-bae2-393b724b858a');\n",
              "          const dataTable =\n",
              "            await google.colab.kernel.invokeFunction('convertToInteractive',\n",
              "                                                     [key], {});\n",
              "          if (!dataTable) return;\n",
              "\n",
              "          const docLinkHtml = 'Like what you see? Visit the ' +\n",
              "            '<a target=\"_blank\" href=https://colab.research.google.com/notebooks/data_table.ipynb>data table notebook</a>'\n",
              "            + ' to learn more about interactive tables.';\n",
              "          element.innerHTML = '';\n",
              "          dataTable['output_type'] = 'display_data';\n",
              "          await google.colab.output.renderOutput(dataTable, element);\n",
              "          const docLink = document.createElement('div');\n",
              "          docLink.innerHTML = docLinkHtml;\n",
              "          element.appendChild(docLink);\n",
              "        }\n",
              "      </script>\n",
              "    </div>\n",
              "  </div>\n",
              "  "
            ],
            "text/plain": [
              "   _RFHYPE5_1.0  TOLDHI2_1.0  _CHOLCHK_1.0  ...     _BMI5  MENTHLTH  PHYSHLTH\n",
              "0             1            1             1  ...  0.325581       0.6       0.5\n",
              "1             0            0             0  ...  0.151163       0.0       0.0\n",
              "3             1            1             1  ...  0.186047       1.0       1.0\n",
              "5             1            0             1  ...  0.174419       0.0       0.0\n",
              "6             1            1             1  ...  0.139535       0.1       0.0\n",
              "\n",
              "[5 rows x 46 columns]"
            ]
          },
          "metadata": {},
          "execution_count": 33
        }
      ]
    },
    {
      "cell_type": "code",
      "source": [
        "df.describe()"
      ],
      "metadata": {
        "colab": {
          "base_uri": "https://localhost:8080/",
          "height": 364
        },
        "id": "dIx4S9eD0mN-",
        "outputId": "4fb98406-38ba-450e-e5fe-5766e03a9bce"
      },
      "execution_count": null,
      "outputs": [
        {
          "output_type": "execute_result",
          "data": {
            "text/html": [
              "\n",
              "  <div id=\"df-4e547a3a-1a6e-4867-8c00-343ab70f5be9\">\n",
              "    <div class=\"colab-df-container\">\n",
              "      <div>\n",
              "<style scoped>\n",
              "    .dataframe tbody tr th:only-of-type {\n",
              "        vertical-align: middle;\n",
              "    }\n",
              "\n",
              "    .dataframe tbody tr th {\n",
              "        vertical-align: top;\n",
              "    }\n",
              "\n",
              "    .dataframe thead th {\n",
              "        text-align: right;\n",
              "    }\n",
              "</style>\n",
              "<table border=\"1\" class=\"dataframe\">\n",
              "  <thead>\n",
              "    <tr style=\"text-align: right;\">\n",
              "      <th></th>\n",
              "      <th>_RFHYPE5_1.0</th>\n",
              "      <th>TOLDHI2_1.0</th>\n",
              "      <th>_CHOLCHK_1.0</th>\n",
              "      <th>SMOKE100_1.0</th>\n",
              "      <th>CVDSTRK3_1.0</th>\n",
              "      <th>_MICHD_1.0</th>\n",
              "      <th>_TOTINDA_1.0</th>\n",
              "      <th>_FRTLT1_1.0</th>\n",
              "      <th>_VEGLT1_1.0</th>\n",
              "      <th>_RFDRHV5_1.0</th>\n",
              "      <th>HLTHPLN1_1.0</th>\n",
              "      <th>MEDCOST_1.0</th>\n",
              "      <th>GENHLTH_2.0</th>\n",
              "      <th>GENHLTH_3.0</th>\n",
              "      <th>GENHLTH_4.0</th>\n",
              "      <th>GENHLTH_5.0</th>\n",
              "      <th>DIFFWALK_1.0</th>\n",
              "      <th>SEX_1.0</th>\n",
              "      <th>EDUCA_2.0</th>\n",
              "      <th>EDUCA_3.0</th>\n",
              "      <th>EDUCA_4.0</th>\n",
              "      <th>EDUCA_5.0</th>\n",
              "      <th>EDUCA_6.0</th>\n",
              "      <th>INCOME2_2.0</th>\n",
              "      <th>INCOME2_3.0</th>\n",
              "      <th>INCOME2_4.0</th>\n",
              "      <th>INCOME2_5.0</th>\n",
              "      <th>INCOME2_6.0</th>\n",
              "      <th>INCOME2_7.0</th>\n",
              "      <th>INCOME2_8.0</th>\n",
              "      <th>_AGEG5YR_2.0</th>\n",
              "      <th>_AGEG5YR_3.0</th>\n",
              "      <th>_AGEG5YR_4.0</th>\n",
              "      <th>_AGEG5YR_5.0</th>\n",
              "      <th>_AGEG5YR_6.0</th>\n",
              "      <th>_AGEG5YR_7.0</th>\n",
              "      <th>_AGEG5YR_8.0</th>\n",
              "      <th>_AGEG5YR_9.0</th>\n",
              "      <th>_AGEG5YR_10.0</th>\n",
              "      <th>_AGEG5YR_11.0</th>\n",
              "      <th>_AGEG5YR_12.0</th>\n",
              "      <th>_AGEG5YR_13.0</th>\n",
              "      <th>DIABETE3</th>\n",
              "      <th>_BMI5</th>\n",
              "      <th>MENTHLTH</th>\n",
              "      <th>PHYSHLTH</th>\n",
              "    </tr>\n",
              "  </thead>\n",
              "  <tbody>\n",
              "    <tr>\n",
              "      <th>count</th>\n",
              "      <td>253680.000000</td>\n",
              "      <td>253680.000000</td>\n",
              "      <td>253680.000000</td>\n",
              "      <td>253680.000000</td>\n",
              "      <td>253680.000000</td>\n",
              "      <td>253680.000000</td>\n",
              "      <td>253680.000000</td>\n",
              "      <td>253680.000000</td>\n",
              "      <td>253680.000000</td>\n",
              "      <td>253680.000000</td>\n",
              "      <td>253680.000000</td>\n",
              "      <td>253680.000000</td>\n",
              "      <td>253680.000000</td>\n",
              "      <td>253680.000000</td>\n",
              "      <td>253680.000000</td>\n",
              "      <td>253680.000000</td>\n",
              "      <td>253680.000000</td>\n",
              "      <td>253680.000000</td>\n",
              "      <td>253680.000000</td>\n",
              "      <td>253680.000000</td>\n",
              "      <td>253680.000000</td>\n",
              "      <td>253680.000000</td>\n",
              "      <td>253680.000000</td>\n",
              "      <td>253680.000000</td>\n",
              "      <td>253680.000000</td>\n",
              "      <td>253680.000000</td>\n",
              "      <td>253680.000000</td>\n",
              "      <td>253680.000000</td>\n",
              "      <td>253680.000000</td>\n",
              "      <td>253680.000000</td>\n",
              "      <td>253680.000000</td>\n",
              "      <td>253680.000000</td>\n",
              "      <td>253680.000000</td>\n",
              "      <td>253680.000000</td>\n",
              "      <td>253680.000000</td>\n",
              "      <td>253680.000000</td>\n",
              "      <td>253680.000000</td>\n",
              "      <td>253680.000000</td>\n",
              "      <td>253680.000000</td>\n",
              "      <td>253680.000000</td>\n",
              "      <td>253680.000000</td>\n",
              "      <td>253680.000000</td>\n",
              "      <td>253680.000000</td>\n",
              "      <td>253680.000000</td>\n",
              "      <td>253680.000000</td>\n",
              "      <td>253680.000000</td>\n",
              "    </tr>\n",
              "    <tr>\n",
              "      <th>mean</th>\n",
              "      <td>0.429001</td>\n",
              "      <td>0.424121</td>\n",
              "      <td>0.962670</td>\n",
              "      <td>0.443169</td>\n",
              "      <td>0.040571</td>\n",
              "      <td>0.094186</td>\n",
              "      <td>0.756544</td>\n",
              "      <td>0.634256</td>\n",
              "      <td>0.811420</td>\n",
              "      <td>0.056197</td>\n",
              "      <td>0.951053</td>\n",
              "      <td>0.084177</td>\n",
              "      <td>0.351167</td>\n",
              "      <td>0.298195</td>\n",
              "      <td>0.124448</td>\n",
              "      <td>0.047623</td>\n",
              "      <td>0.168224</td>\n",
              "      <td>0.440342</td>\n",
              "      <td>0.015937</td>\n",
              "      <td>0.037362</td>\n",
              "      <td>0.247359</td>\n",
              "      <td>0.275583</td>\n",
              "      <td>0.423072</td>\n",
              "      <td>0.046448</td>\n",
              "      <td>0.063048</td>\n",
              "      <td>0.079372</td>\n",
              "      <td>0.102030</td>\n",
              "      <td>0.143764</td>\n",
              "      <td>0.170368</td>\n",
              "      <td>0.356295</td>\n",
              "      <td>0.029951</td>\n",
              "      <td>0.043847</td>\n",
              "      <td>0.054490</td>\n",
              "      <td>0.063690</td>\n",
              "      <td>0.078126</td>\n",
              "      <td>0.103729</td>\n",
              "      <td>0.121539</td>\n",
              "      <td>0.131047</td>\n",
              "      <td>0.126908</td>\n",
              "      <td>0.092766</td>\n",
              "      <td>0.062993</td>\n",
              "      <td>0.068444</td>\n",
              "      <td>0.296921</td>\n",
              "      <td>0.190493</td>\n",
              "      <td>0.106159</td>\n",
              "      <td>0.141403</td>\n",
              "    </tr>\n",
              "    <tr>\n",
              "      <th>std</th>\n",
              "      <td>0.494934</td>\n",
              "      <td>0.494210</td>\n",
              "      <td>0.189571</td>\n",
              "      <td>0.496761</td>\n",
              "      <td>0.197294</td>\n",
              "      <td>0.292087</td>\n",
              "      <td>0.429169</td>\n",
              "      <td>0.481639</td>\n",
              "      <td>0.391175</td>\n",
              "      <td>0.230302</td>\n",
              "      <td>0.215759</td>\n",
              "      <td>0.277654</td>\n",
              "      <td>0.477336</td>\n",
              "      <td>0.457466</td>\n",
              "      <td>0.330093</td>\n",
              "      <td>0.212968</td>\n",
              "      <td>0.374066</td>\n",
              "      <td>0.496429</td>\n",
              "      <td>0.125234</td>\n",
              "      <td>0.189648</td>\n",
              "      <td>0.431478</td>\n",
              "      <td>0.446809</td>\n",
              "      <td>0.494048</td>\n",
              "      <td>0.210454</td>\n",
              "      <td>0.243050</td>\n",
              "      <td>0.270318</td>\n",
              "      <td>0.302689</td>\n",
              "      <td>0.350851</td>\n",
              "      <td>0.375957</td>\n",
              "      <td>0.478905</td>\n",
              "      <td>0.170453</td>\n",
              "      <td>0.204754</td>\n",
              "      <td>0.226982</td>\n",
              "      <td>0.244201</td>\n",
              "      <td>0.268370</td>\n",
              "      <td>0.304909</td>\n",
              "      <td>0.326753</td>\n",
              "      <td>0.337452</td>\n",
              "      <td>0.332870</td>\n",
              "      <td>0.290105</td>\n",
              "      <td>0.242950</td>\n",
              "      <td>0.252508</td>\n",
              "      <td>0.698160</td>\n",
              "      <td>0.076845</td>\n",
              "      <td>0.247095</td>\n",
              "      <td>0.290598</td>\n",
              "    </tr>\n",
              "    <tr>\n",
              "      <th>min</th>\n",
              "      <td>0.000000</td>\n",
              "      <td>0.000000</td>\n",
              "      <td>0.000000</td>\n",
              "      <td>0.000000</td>\n",
              "      <td>0.000000</td>\n",
              "      <td>0.000000</td>\n",
              "      <td>0.000000</td>\n",
              "      <td>0.000000</td>\n",
              "      <td>0.000000</td>\n",
              "      <td>0.000000</td>\n",
              "      <td>0.000000</td>\n",
              "      <td>0.000000</td>\n",
              "      <td>0.000000</td>\n",
              "      <td>0.000000</td>\n",
              "      <td>0.000000</td>\n",
              "      <td>0.000000</td>\n",
              "      <td>0.000000</td>\n",
              "      <td>0.000000</td>\n",
              "      <td>0.000000</td>\n",
              "      <td>0.000000</td>\n",
              "      <td>0.000000</td>\n",
              "      <td>0.000000</td>\n",
              "      <td>0.000000</td>\n",
              "      <td>0.000000</td>\n",
              "      <td>0.000000</td>\n",
              "      <td>0.000000</td>\n",
              "      <td>0.000000</td>\n",
              "      <td>0.000000</td>\n",
              "      <td>0.000000</td>\n",
              "      <td>0.000000</td>\n",
              "      <td>0.000000</td>\n",
              "      <td>0.000000</td>\n",
              "      <td>0.000000</td>\n",
              "      <td>0.000000</td>\n",
              "      <td>0.000000</td>\n",
              "      <td>0.000000</td>\n",
              "      <td>0.000000</td>\n",
              "      <td>0.000000</td>\n",
              "      <td>0.000000</td>\n",
              "      <td>0.000000</td>\n",
              "      <td>0.000000</td>\n",
              "      <td>0.000000</td>\n",
              "      <td>0.000000</td>\n",
              "      <td>0.000000</td>\n",
              "      <td>0.000000</td>\n",
              "      <td>0.000000</td>\n",
              "    </tr>\n",
              "    <tr>\n",
              "      <th>25%</th>\n",
              "      <td>0.000000</td>\n",
              "      <td>0.000000</td>\n",
              "      <td>1.000000</td>\n",
              "      <td>0.000000</td>\n",
              "      <td>0.000000</td>\n",
              "      <td>0.000000</td>\n",
              "      <td>1.000000</td>\n",
              "      <td>0.000000</td>\n",
              "      <td>1.000000</td>\n",
              "      <td>0.000000</td>\n",
              "      <td>1.000000</td>\n",
              "      <td>0.000000</td>\n",
              "      <td>0.000000</td>\n",
              "      <td>0.000000</td>\n",
              "      <td>0.000000</td>\n",
              "      <td>0.000000</td>\n",
              "      <td>0.000000</td>\n",
              "      <td>0.000000</td>\n",
              "      <td>0.000000</td>\n",
              "      <td>0.000000</td>\n",
              "      <td>0.000000</td>\n",
              "      <td>0.000000</td>\n",
              "      <td>0.000000</td>\n",
              "      <td>0.000000</td>\n",
              "      <td>0.000000</td>\n",
              "      <td>0.000000</td>\n",
              "      <td>0.000000</td>\n",
              "      <td>0.000000</td>\n",
              "      <td>0.000000</td>\n",
              "      <td>0.000000</td>\n",
              "      <td>0.000000</td>\n",
              "      <td>0.000000</td>\n",
              "      <td>0.000000</td>\n",
              "      <td>0.000000</td>\n",
              "      <td>0.000000</td>\n",
              "      <td>0.000000</td>\n",
              "      <td>0.000000</td>\n",
              "      <td>0.000000</td>\n",
              "      <td>0.000000</td>\n",
              "      <td>0.000000</td>\n",
              "      <td>0.000000</td>\n",
              "      <td>0.000000</td>\n",
              "      <td>0.000000</td>\n",
              "      <td>0.139535</td>\n",
              "      <td>0.000000</td>\n",
              "      <td>0.000000</td>\n",
              "    </tr>\n",
              "    <tr>\n",
              "      <th>50%</th>\n",
              "      <td>0.000000</td>\n",
              "      <td>0.000000</td>\n",
              "      <td>1.000000</td>\n",
              "      <td>0.000000</td>\n",
              "      <td>0.000000</td>\n",
              "      <td>0.000000</td>\n",
              "      <td>1.000000</td>\n",
              "      <td>1.000000</td>\n",
              "      <td>1.000000</td>\n",
              "      <td>0.000000</td>\n",
              "      <td>1.000000</td>\n",
              "      <td>0.000000</td>\n",
              "      <td>0.000000</td>\n",
              "      <td>0.000000</td>\n",
              "      <td>0.000000</td>\n",
              "      <td>0.000000</td>\n",
              "      <td>0.000000</td>\n",
              "      <td>0.000000</td>\n",
              "      <td>0.000000</td>\n",
              "      <td>0.000000</td>\n",
              "      <td>0.000000</td>\n",
              "      <td>0.000000</td>\n",
              "      <td>0.000000</td>\n",
              "      <td>0.000000</td>\n",
              "      <td>0.000000</td>\n",
              "      <td>0.000000</td>\n",
              "      <td>0.000000</td>\n",
              "      <td>0.000000</td>\n",
              "      <td>0.000000</td>\n",
              "      <td>0.000000</td>\n",
              "      <td>0.000000</td>\n",
              "      <td>0.000000</td>\n",
              "      <td>0.000000</td>\n",
              "      <td>0.000000</td>\n",
              "      <td>0.000000</td>\n",
              "      <td>0.000000</td>\n",
              "      <td>0.000000</td>\n",
              "      <td>0.000000</td>\n",
              "      <td>0.000000</td>\n",
              "      <td>0.000000</td>\n",
              "      <td>0.000000</td>\n",
              "      <td>0.000000</td>\n",
              "      <td>0.000000</td>\n",
              "      <td>0.174419</td>\n",
              "      <td>0.000000</td>\n",
              "      <td>0.000000</td>\n",
              "    </tr>\n",
              "    <tr>\n",
              "      <th>75%</th>\n",
              "      <td>1.000000</td>\n",
              "      <td>1.000000</td>\n",
              "      <td>1.000000</td>\n",
              "      <td>1.000000</td>\n",
              "      <td>0.000000</td>\n",
              "      <td>0.000000</td>\n",
              "      <td>1.000000</td>\n",
              "      <td>1.000000</td>\n",
              "      <td>1.000000</td>\n",
              "      <td>0.000000</td>\n",
              "      <td>1.000000</td>\n",
              "      <td>0.000000</td>\n",
              "      <td>1.000000</td>\n",
              "      <td>1.000000</td>\n",
              "      <td>0.000000</td>\n",
              "      <td>0.000000</td>\n",
              "      <td>0.000000</td>\n",
              "      <td>1.000000</td>\n",
              "      <td>0.000000</td>\n",
              "      <td>0.000000</td>\n",
              "      <td>0.000000</td>\n",
              "      <td>1.000000</td>\n",
              "      <td>1.000000</td>\n",
              "      <td>0.000000</td>\n",
              "      <td>0.000000</td>\n",
              "      <td>0.000000</td>\n",
              "      <td>0.000000</td>\n",
              "      <td>0.000000</td>\n",
              "      <td>0.000000</td>\n",
              "      <td>1.000000</td>\n",
              "      <td>0.000000</td>\n",
              "      <td>0.000000</td>\n",
              "      <td>0.000000</td>\n",
              "      <td>0.000000</td>\n",
              "      <td>0.000000</td>\n",
              "      <td>0.000000</td>\n",
              "      <td>0.000000</td>\n",
              "      <td>0.000000</td>\n",
              "      <td>0.000000</td>\n",
              "      <td>0.000000</td>\n",
              "      <td>0.000000</td>\n",
              "      <td>0.000000</td>\n",
              "      <td>0.000000</td>\n",
              "      <td>0.220930</td>\n",
              "      <td>0.066667</td>\n",
              "      <td>0.100000</td>\n",
              "    </tr>\n",
              "    <tr>\n",
              "      <th>max</th>\n",
              "      <td>1.000000</td>\n",
              "      <td>1.000000</td>\n",
              "      <td>1.000000</td>\n",
              "      <td>1.000000</td>\n",
              "      <td>1.000000</td>\n",
              "      <td>1.000000</td>\n",
              "      <td>1.000000</td>\n",
              "      <td>1.000000</td>\n",
              "      <td>1.000000</td>\n",
              "      <td>1.000000</td>\n",
              "      <td>1.000000</td>\n",
              "      <td>1.000000</td>\n",
              "      <td>1.000000</td>\n",
              "      <td>1.000000</td>\n",
              "      <td>1.000000</td>\n",
              "      <td>1.000000</td>\n",
              "      <td>1.000000</td>\n",
              "      <td>1.000000</td>\n",
              "      <td>1.000000</td>\n",
              "      <td>1.000000</td>\n",
              "      <td>1.000000</td>\n",
              "      <td>1.000000</td>\n",
              "      <td>1.000000</td>\n",
              "      <td>1.000000</td>\n",
              "      <td>1.000000</td>\n",
              "      <td>1.000000</td>\n",
              "      <td>1.000000</td>\n",
              "      <td>1.000000</td>\n",
              "      <td>1.000000</td>\n",
              "      <td>1.000000</td>\n",
              "      <td>1.000000</td>\n",
              "      <td>1.000000</td>\n",
              "      <td>1.000000</td>\n",
              "      <td>1.000000</td>\n",
              "      <td>1.000000</td>\n",
              "      <td>1.000000</td>\n",
              "      <td>1.000000</td>\n",
              "      <td>1.000000</td>\n",
              "      <td>1.000000</td>\n",
              "      <td>1.000000</td>\n",
              "      <td>1.000000</td>\n",
              "      <td>1.000000</td>\n",
              "      <td>2.000000</td>\n",
              "      <td>1.000000</td>\n",
              "      <td>1.000000</td>\n",
              "      <td>1.000000</td>\n",
              "    </tr>\n",
              "  </tbody>\n",
              "</table>\n",
              "</div>\n",
              "      <button class=\"colab-df-convert\" onclick=\"convertToInteractive('df-4e547a3a-1a6e-4867-8c00-343ab70f5be9')\"\n",
              "              title=\"Convert this dataframe to an interactive table.\"\n",
              "              style=\"display:none;\">\n",
              "        \n",
              "  <svg xmlns=\"http://www.w3.org/2000/svg\" height=\"24px\"viewBox=\"0 0 24 24\"\n",
              "       width=\"24px\">\n",
              "    <path d=\"M0 0h24v24H0V0z\" fill=\"none\"/>\n",
              "    <path d=\"M18.56 5.44l.94 2.06.94-2.06 2.06-.94-2.06-.94-.94-2.06-.94 2.06-2.06.94zm-11 1L8.5 8.5l.94-2.06 2.06-.94-2.06-.94L8.5 2.5l-.94 2.06-2.06.94zm10 10l.94 2.06.94-2.06 2.06-.94-2.06-.94-.94-2.06-.94 2.06-2.06.94z\"/><path d=\"M17.41 7.96l-1.37-1.37c-.4-.4-.92-.59-1.43-.59-.52 0-1.04.2-1.43.59L10.3 9.45l-7.72 7.72c-.78.78-.78 2.05 0 2.83L4 21.41c.39.39.9.59 1.41.59.51 0 1.02-.2 1.41-.59l7.78-7.78 2.81-2.81c.8-.78.8-2.07 0-2.86zM5.41 20L4 18.59l7.72-7.72 1.47 1.35L5.41 20z\"/>\n",
              "  </svg>\n",
              "      </button>\n",
              "      \n",
              "  <style>\n",
              "    .colab-df-container {\n",
              "      display:flex;\n",
              "      flex-wrap:wrap;\n",
              "      gap: 12px;\n",
              "    }\n",
              "\n",
              "    .colab-df-convert {\n",
              "      background-color: #E8F0FE;\n",
              "      border: none;\n",
              "      border-radius: 50%;\n",
              "      cursor: pointer;\n",
              "      display: none;\n",
              "      fill: #1967D2;\n",
              "      height: 32px;\n",
              "      padding: 0 0 0 0;\n",
              "      width: 32px;\n",
              "    }\n",
              "\n",
              "    .colab-df-convert:hover {\n",
              "      background-color: #E2EBFA;\n",
              "      box-shadow: 0px 1px 2px rgba(60, 64, 67, 0.3), 0px 1px 3px 1px rgba(60, 64, 67, 0.15);\n",
              "      fill: #174EA6;\n",
              "    }\n",
              "\n",
              "    [theme=dark] .colab-df-convert {\n",
              "      background-color: #3B4455;\n",
              "      fill: #D2E3FC;\n",
              "    }\n",
              "\n",
              "    [theme=dark] .colab-df-convert:hover {\n",
              "      background-color: #434B5C;\n",
              "      box-shadow: 0px 1px 3px 1px rgba(0, 0, 0, 0.15);\n",
              "      filter: drop-shadow(0px 1px 2px rgba(0, 0, 0, 0.3));\n",
              "      fill: #FFFFFF;\n",
              "    }\n",
              "  </style>\n",
              "\n",
              "      <script>\n",
              "        const buttonEl =\n",
              "          document.querySelector('#df-4e547a3a-1a6e-4867-8c00-343ab70f5be9 button.colab-df-convert');\n",
              "        buttonEl.style.display =\n",
              "          google.colab.kernel.accessAllowed ? 'block' : 'none';\n",
              "\n",
              "        async function convertToInteractive(key) {\n",
              "          const element = document.querySelector('#df-4e547a3a-1a6e-4867-8c00-343ab70f5be9');\n",
              "          const dataTable =\n",
              "            await google.colab.kernel.invokeFunction('convertToInteractive',\n",
              "                                                     [key], {});\n",
              "          if (!dataTable) return;\n",
              "\n",
              "          const docLinkHtml = 'Like what you see? Visit the ' +\n",
              "            '<a target=\"_blank\" href=https://colab.research.google.com/notebooks/data_table.ipynb>data table notebook</a>'\n",
              "            + ' to learn more about interactive tables.';\n",
              "          element.innerHTML = '';\n",
              "          dataTable['output_type'] = 'display_data';\n",
              "          await google.colab.output.renderOutput(dataTable, element);\n",
              "          const docLink = document.createElement('div');\n",
              "          docLink.innerHTML = docLinkHtml;\n",
              "          element.appendChild(docLink);\n",
              "        }\n",
              "      </script>\n",
              "    </div>\n",
              "  </div>\n",
              "  "
            ],
            "text/plain": [
              "        _RFHYPE5_1.0    TOLDHI2_1.0  ...       MENTHLTH       PHYSHLTH\n",
              "count  253680.000000  253680.000000  ...  253680.000000  253680.000000\n",
              "mean        0.429001       0.424121  ...       0.106159       0.141403\n",
              "std         0.494934       0.494210  ...       0.247095       0.290598\n",
              "min         0.000000       0.000000  ...       0.000000       0.000000\n",
              "25%         0.000000       0.000000  ...       0.000000       0.000000\n",
              "50%         0.000000       0.000000  ...       0.000000       0.000000\n",
              "75%         1.000000       1.000000  ...       0.066667       0.100000\n",
              "max         1.000000       1.000000  ...       1.000000       1.000000\n",
              "\n",
              "[8 rows x 46 columns]"
            ]
          },
          "metadata": {},
          "execution_count": 34
        }
      ]
    },
    {
      "cell_type": "markdown",
      "source": [
        "## Split train test"
      ],
      "metadata": {
        "id": "qzx4lNJb3Ct9"
      }
    },
    {
      "cell_type": "code",
      "source": [
        "from sklearn.model_selection import train_test_split\n",
        "\n",
        "y = df.pop('DIABETE3')\n",
        "X = df\n",
        "\n",
        "X_train, X_test, y_train, y_test = train_test_split(X, y, test_size=0.2)"
      ],
      "metadata": {
        "id": "Hg-DHba22s9H"
      },
      "execution_count": null,
      "outputs": []
    },
    {
      "cell_type": "markdown",
      "source": [
        "## Use Voting Classifer"
      ],
      "metadata": {
        "id": "Bvu1_8Or3gJ_"
      }
    },
    {
      "cell_type": "code",
      "source": [
        "from sklearn.model_selection import cross_val_score\n",
        "from sklearn.naive_bayes import GaussianNB\n",
        "from sklearn.linear_model import LogisticRegression\n",
        "from sklearn import tree\n",
        "from sklearn.neighbors import KNeighborsClassifier\n",
        "from sklearn.ensemble import RandomForestClassifier\n",
        "from sklearn.svm import SVC"
      ],
      "metadata": {
        "id": "VLYlj9lC3cYc"
      },
      "execution_count": null,
      "outputs": []
    },
    {
      "cell_type": "code",
      "source": [
        "# Build and train a Gaussian Naive Bayes\n",
        "gnb = GaussianNB()\n",
        "cv = cross_val_score(gnb,X_train,y_train,cv=5)\n",
        "print(cv)\n",
        "print(cv.mean())"
      ],
      "metadata": {
        "colab": {
          "base_uri": "https://localhost:8080/"
        },
        "id": "0kuSdIwG3nTj",
        "outputId": "26b3a6a9-6bbd-4116-c010-3f52eaa3621b"
      },
      "execution_count": null,
      "outputs": [
        {
          "output_type": "stream",
          "name": "stdout",
          "text": [
            "[0.70674321 0.70770406 0.71588361 0.71238513 0.70555337]\n",
            "0.7096538744653256\n"
          ]
        }
      ]
    },
    {
      "cell_type": "code",
      "source": [
        "# Build and train a Logistic Regression\n",
        "lr = LogisticRegression(max_iter = 2000)\n",
        "cv = cross_val_score(lr,X_train,y_train,cv=5)\n",
        "print(cv)\n",
        "print(cv.mean())"
      ],
      "metadata": {
        "colab": {
          "base_uri": "https://localhost:8080/"
        },
        "id": "1hP_-XcO4Ynp",
        "outputId": "f160435c-93dc-4347-a653-1c1d643b7611"
      },
      "execution_count": null,
      "outputs": [
        {
          "output_type": "stream",
          "name": "stdout",
          "text": [
            "[0.84808692 0.84606667 0.84981153 0.84835793 0.84685129]\n",
            "0.8478348658566908\n"
          ]
        }
      ]
    },
    {
      "cell_type": "code",
      "source": [
        "# Build and train a Decision Tree\n",
        "dt = tree.DecisionTreeClassifier(random_state = 1)\n",
        "cv = cross_val_score(dt,X_train,y_train,cv=5)\n",
        "print(cv)\n",
        "print(cv.mean())"
      ],
      "metadata": {
        "colab": {
          "base_uri": "https://localhost:8080/"
        },
        "id": "Aum0PTmu3rLM",
        "outputId": "6189aa7f-4294-4ed8-b361-654fb3078dce"
      },
      "execution_count": null,
      "outputs": [
        {
          "output_type": "stream",
          "name": "stdout",
          "text": [
            "[0.77067678 0.76966666 0.76954347 0.7692971  0.76675372]\n",
            "0.7691875471370091\n"
          ]
        }
      ]
    },
    {
      "cell_type": "code",
      "source": [
        "# Build and train a KNN\n",
        "knn = KNeighborsClassifier()\n",
        "cv = cross_val_score(knn,X_train,y_train,cv=5)\n",
        "print(cv)\n",
        "print(cv.mean())"
      ],
      "metadata": {
        "colab": {
          "base_uri": "https://localhost:8080/"
        },
        "id": "nRat05yM3tSU",
        "outputId": "2db776f3-7eb4-4e8a-f2df-b8be09d17f27"
      },
      "execution_count": null,
      "outputs": [
        {
          "output_type": "stream",
          "name": "stdout",
          "text": [
            "[0.82926409 0.82756412 0.83261475 0.82916554 0.8271903 ]\n",
            "0.82915975850749\n"
          ]
        }
      ]
    },
    {
      "cell_type": "code",
      "source": [
        "# Build and train a Random Forest Classifier\n",
        "rf = RandomForestClassifier(random_state = 1)\n",
        "cv = cross_val_score(rf,X_train,y_train,cv=5)\n",
        "print(cv)\n",
        "print(cv.mean())"
      ],
      "metadata": {
        "colab": {
          "base_uri": "https://localhost:8080/"
        },
        "id": "r0oIMy_V3rTM",
        "outputId": "d0140a34-2ec0-48af-dff8-d3f99ab26dbe"
      },
      "execution_count": null,
      "outputs": [
        {
          "output_type": "stream",
          "name": "stdout",
          "text": [
            "[0.84143487 0.84005519 0.84219863 0.84237109 0.84002661]\n",
            "0.84121727574766\n"
          ]
        }
      ]
    },
    {
      "cell_type": "code",
      "source": [
        "# Build and train an SVC (temporarily removed as it takes too long to train)\n",
        "# svc = SVC(probability = True)\n",
        "# cv = cross_val_score(svc,X_train,y_train,cv=5)\n",
        "# print(cv)\n",
        "# print(cv.mean())"
      ],
      "metadata": {
        "id": "I48KoaQq3303"
      },
      "execution_count": null,
      "outputs": []
    },
    {
      "cell_type": "code",
      "source": [
        "from xgboost import XGBClassifier\n",
        "xgb = XGBClassifier(random_state =1)\n",
        "cv = cross_val_score(xgb,X_train,y_train,cv=5)\n",
        "print(cv)\n",
        "print(cv.mean())"
      ],
      "metadata": {
        "colab": {
          "base_uri": "https://localhost:8080/"
        },
        "id": "h-Cuueuv35Kl",
        "outputId": "02e80993-2313-419d-a3e9-070030b16fc7"
      },
      "execution_count": null,
      "outputs": [
        {
          "output_type": "stream",
          "name": "stdout",
          "text": [
            "[0.84939269 0.84683042 0.85087093 0.85059992 0.84800926]\n",
            "0.8491406440624989\n"
          ]
        }
      ]
    },
    {
      "cell_type": "code",
      "source": [
        "# Build a Voting Classifier\n",
        "from sklearn.ensemble import VotingClassifier\n",
        "# voting_clf = VotingClassifier(estimators = [('lr',lr),('knn',knn),('rf',rf),('gnb',gnb),('svc',svc),('xgb',xgb)], voting = 'soft') \n",
        "voting_clf = VotingClassifier(estimators = [('lr',lr),('knn',knn),('rf',rf),('gnb',gnb),('xgb',xgb)], voting = 'soft') "
      ],
      "metadata": {
        "id": "4DssLfBQ39Lr"
      },
      "execution_count": null,
      "outputs": []
    },
    {
      "cell_type": "code",
      "source": [
        "cv = cross_val_score(voting_clf,X_train,y_train,cv=5)\n",
        "print(cv)\n",
        "print(cv.mean())"
      ],
      "metadata": {
        "colab": {
          "base_uri": "https://localhost:8080/"
        },
        "id": "wcx7gzFy4Ahe",
        "outputId": "11346890-732b-4f20-d604-03da57eff8cd"
      },
      "execution_count": null,
      "outputs": [
        {
          "output_type": "stream",
          "name": "stdout",
          "text": [
            "[0.84113922 0.83680307 0.84362758 0.84256818 0.83820341]\n",
            "0.8404682953677591\n"
          ]
        }
      ]
    },
    {
      "cell_type": "code",
      "source": [
        "# Train the Voting Classifier\n",
        "voting_clf.fit(X_train,y_train)"
      ],
      "metadata": {
        "colab": {
          "base_uri": "https://localhost:8080/"
        },
        "id": "SAdsia3sEt5D",
        "outputId": "8ade6510-0763-4f28-f2db-3b37187d4616"
      },
      "execution_count": null,
      "outputs": [
        {
          "output_type": "execute_result",
          "data": {
            "text/plain": [
              "VotingClassifier(estimators=[('lr', LogisticRegression(max_iter=2000)),\n",
              "                             ('knn', KNeighborsClassifier()),\n",
              "                             ('rf', RandomForestClassifier(random_state=1)),\n",
              "                             ('gnb', GaussianNB()),\n",
              "                             ('xgb', XGBClassifier(random_state=1))],\n",
              "                 voting='soft')"
            ]
          },
          "metadata": {},
          "execution_count": 46
        }
      ]
    },
    {
      "cell_type": "code",
      "source": [
        "# Get the accuracy score of the classification\n",
        "print(voting_clf.score(X_test, y_test))"
      ],
      "metadata": {
        "colab": {
          "base_uri": "https://localhost:8080/"
        },
        "id": "EqAfc4Z5EuL2",
        "outputId": "e44c4a1a-9237-41b9-87a3-f28c2e754b65"
      },
      "execution_count": null,
      "outputs": [
        {
          "output_type": "stream",
          "name": "stdout",
          "text": [
            "0.8413946704509618\n"
          ]
        }
      ]
    }
  ]
}